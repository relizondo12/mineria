{
 "cells": [
  {
   "cell_type": "markdown",
   "metadata": {},
   "source": [
    "# BASE DE DATOS: Gold Price\n"
   ]
  },
  {
   "cell_type": "markdown",
   "metadata": {},
   "source": [
    "# Equipo :10",
    "## Integrantes:\n",
    "\n",
    "#### Rafael Elizondo Aranda 187942\n",
    "#### Andre Damian Valdez\n",
    "#### Kevin Gonzalez Gonzalez 1805425"
   ]
  },
  {
   "cell_type": "markdown",
   "metadata": {},
   "source": [
    "# 2) Descripcion de los Datos\n",
    "-\tLos datos mostrados en la base de datos vienen mostrados en columnas, cada columna muestra los diferentes precios del oro en sus respectivas fechas y se muestran por sus clasificaciones es decir, su precio mas alto en esa fecha, su minimo, el precio promedio y por ultimo nos muestra el cambio con respecto al dia anterior"
   ]
  },
  {
   "cell_type": "code",
   "execution_count": 3,
   "metadata": {},
   "outputs": [
    {
     "data": {
      "text/plain": [
       "(2531, 6)"
      ]
     },
     "execution_count": 3,
     "metadata": {},
     "output_type": "execute_result"
    }
   ],
   "source": [
    "oro.shape"
   ]
  },
  {
   "cell_type": "code",
   "execution_count": 4,
   "metadata": {},
   "outputs": [
    {
     "data": {
      "text/plain": [
       "Date      object\n",
       "Price    float64\n",
       "Open     float64\n",
       "High     float64\n",
       "Low      float64\n",
       "Chg%     float64\n",
       "dtype: object"
      ]
     },
     "execution_count": 4,
     "metadata": {},
     "output_type": "execute_result"
    }
   ],
   "source": [
    "oro.dtypes"
   ]
  },
  {
   "cell_type": "markdown",
   "metadata": {},
   "source": [
    "- Aqui se puede apreciar que nuestra base de datos cuenta con 2531 elementos es decir 2531 fechas que nos dicen el precio y esta conformado por 6 columnas, ademas podemos ver que todas nuestras variables son flotantes de 64 bits la unica que es diferente es la fecha\n"
   ]
  },
  {
   "cell_type": "markdown",
   "metadata": {},
   "source": [
    "# 3) Justificacion del uso de Datos\n",
    "- Nos llamó la atención esta base de datos por que venían los diferentes precios que podía tener el oro y esto nos puede crear alternativas para trabajarlo ya sea trabajarlo con sus precios promedios, sus precios de cierre, o sus máximos y mínimos.\n",
    "-\tEl beneficio que encontramos de trabajar con estos datos son las diferentes opciones que nos da para trabajar además de que la manera en que están estructurados los datos nos puede hacer facil trabajar con ellos y nos brinda diversos tipos de opciones de como interpretar los datos"
   ]
  },
  {
   "cell_type": "markdown",
   "metadata": {},
   "source": [
    "# 4) OBJETIVOS\n",
    "- Nuestro objetivo en este proyecto será poder crear una ecuación para de esta forma poder conocer el precio del oro en sus distintas fechas, para de esta forma poder graficar y observar la tendencia que tiene y como se comporta para de esta forma poder recomendar en que fechas comprar oro o vender el oro dependiendo de sus necesidades y como segundo objetivo buscaremos en que dias de la semana o mes en promedio es mejor comprar si es que existe alguna fecha "
   ]
  },
  {
   "cell_type": "code",
   "execution_count": 31,
   "metadata": {},
   "outputs": [],
   "source": [
    "\n",
    "import pandas as pd\n",
    "import numpy as np\n",
    "oro = pd.read_csv(\"C:/Users/rafae/OneDrive/Documentos/fcfm/7 semestre/mineria/PrecioOro.csv\", encoding='utf8')"
   ]
  },
  {
   "cell_type": "markdown",
   "metadata": {},
   "source": [
    "# Desarrollo de las herramientas\n",
    "Datos sin manipular"
   ]
  },
  {
   "cell_type": "code",
   "execution_count": 32,
   "metadata": {
    "scrolled": true
   },
   "outputs": [
    {
     "data": {
      "text/html": [
       "<div>\n",
       "<style scoped>\n",
       "    .dataframe tbody tr th:only-of-type {\n",
       "        vertical-align: middle;\n",
       "    }\n",
       "\n",
       "    .dataframe tbody tr th {\n",
       "        vertical-align: top;\n",
       "    }\n",
       "\n",
       "    .dataframe thead th {\n",
       "        text-align: right;\n",
       "    }\n",
       "</style>\n",
       "<table border=\"1\" class=\"dataframe\">\n",
       "  <thead>\n",
       "    <tr style=\"text-align: right;\">\n",
       "      <th></th>\n",
       "      <th>Date</th>\n",
       "      <th>Price</th>\n",
       "      <th>Open</th>\n",
       "      <th>High</th>\n",
       "      <th>Low</th>\n",
       "      <th>Chg%</th>\n",
       "    </tr>\n",
       "  </thead>\n",
       "  <tbody>\n",
       "    <tr>\n",
       "      <th>0</th>\n",
       "      <td>Sep 11, 2020</td>\n",
       "      <td>1957.35</td>\n",
       "      <td>1952.55</td>\n",
       "      <td>1963.3</td>\n",
       "      <td>1944.35</td>\n",
       "      <td>-0.0035</td>\n",
       "    </tr>\n",
       "    <tr>\n",
       "      <th>1</th>\n",
       "      <td>Sep 10, 2020</td>\n",
       "      <td>1964.30</td>\n",
       "      <td>1955.30</td>\n",
       "      <td>1975.2</td>\n",
       "      <td>1948.60</td>\n",
       "      <td>0.0048</td>\n",
       "    </tr>\n",
       "    <tr>\n",
       "      <th>2</th>\n",
       "      <td>Sep 09, 2020</td>\n",
       "      <td>1954.90</td>\n",
       "      <td>1939.40</td>\n",
       "      <td>1959.7</td>\n",
       "      <td>1926.30</td>\n",
       "      <td>0.0060</td>\n",
       "    </tr>\n",
       "    <tr>\n",
       "      <th>3</th>\n",
       "      <td>Sep 08, 2020</td>\n",
       "      <td>1943.20</td>\n",
       "      <td>1938.00</td>\n",
       "      <td>1948.3</td>\n",
       "      <td>1911.70</td>\n",
       "      <td>0.0031</td>\n",
       "    </tr>\n",
       "    <tr>\n",
       "      <th>4</th>\n",
       "      <td>Sep 07, 2020</td>\n",
       "      <td>1937.10</td>\n",
       "      <td>1940.70</td>\n",
       "      <td>1947.4</td>\n",
       "      <td>1930.45</td>\n",
       "      <td>-0.0018</td>\n",
       "    </tr>\n",
       "    <tr>\n",
       "      <th>...</th>\n",
       "      <td>...</td>\n",
       "      <td>...</td>\n",
       "      <td>...</td>\n",
       "      <td>...</td>\n",
       "      <td>...</td>\n",
       "      <td>...</td>\n",
       "    </tr>\n",
       "    <tr>\n",
       "      <th>2526</th>\n",
       "      <td>Jan 07, 2011</td>\n",
       "      <td>1368.50</td>\n",
       "      <td>1372.70</td>\n",
       "      <td>1377.2</td>\n",
       "      <td>1355.50</td>\n",
       "      <td>-0.0021</td>\n",
       "    </tr>\n",
       "    <tr>\n",
       "      <th>2527</th>\n",
       "      <td>Jan 06, 2011</td>\n",
       "      <td>1371.40</td>\n",
       "      <td>1374.80</td>\n",
       "      <td>1376.5</td>\n",
       "      <td>1368.90</td>\n",
       "      <td>-0.0015</td>\n",
       "    </tr>\n",
       "    <tr>\n",
       "      <th>2528</th>\n",
       "      <td>Jan 05, 2011</td>\n",
       "      <td>1373.40</td>\n",
       "      <td>1383.40</td>\n",
       "      <td>1384.0</td>\n",
       "      <td>1364.20</td>\n",
       "      <td>-0.0037</td>\n",
       "    </tr>\n",
       "    <tr>\n",
       "      <th>2529</th>\n",
       "      <td>Jan 04, 2011</td>\n",
       "      <td>1378.50</td>\n",
       "      <td>1409.60</td>\n",
       "      <td>1410.9</td>\n",
       "      <td>1375.80</td>\n",
       "      <td>-0.0310</td>\n",
       "    </tr>\n",
       "    <tr>\n",
       "      <th>2530</th>\n",
       "      <td>Jan 03, 2011</td>\n",
       "      <td>1422.60</td>\n",
       "      <td>1415.60</td>\n",
       "      <td>1423.9</td>\n",
       "      <td>1413.70</td>\n",
       "      <td>0.0011</td>\n",
       "    </tr>\n",
       "  </tbody>\n",
       "</table>\n",
       "<p>2531 rows × 6 columns</p>\n",
       "</div>"
      ],
      "text/plain": [
       "              Date    Price     Open    High      Low    Chg%\n",
       "0     Sep 11, 2020  1957.35  1952.55  1963.3  1944.35 -0.0035\n",
       "1     Sep 10, 2020  1964.30  1955.30  1975.2  1948.60  0.0048\n",
       "2     Sep 09, 2020  1954.90  1939.40  1959.7  1926.30  0.0060\n",
       "3     Sep 08, 2020  1943.20  1938.00  1948.3  1911.70  0.0031\n",
       "4     Sep 07, 2020  1937.10  1940.70  1947.4  1930.45 -0.0018\n",
       "...            ...      ...      ...     ...      ...     ...\n",
       "2526  Jan 07, 2011  1368.50  1372.70  1377.2  1355.50 -0.0021\n",
       "2527  Jan 06, 2011  1371.40  1374.80  1376.5  1368.90 -0.0015\n",
       "2528  Jan 05, 2011  1373.40  1383.40  1384.0  1364.20 -0.0037\n",
       "2529  Jan 04, 2011  1378.50  1409.60  1410.9  1375.80 -0.0310\n",
       "2530  Jan 03, 2011  1422.60  1415.60  1423.9  1413.70  0.0011\n",
       "\n",
       "[2531 rows x 6 columns]"
      ]
     },
     "execution_count": 32,
     "metadata": {},
     "output_type": "execute_result"
    }
   ],
   "source": [
    "oro"
   ]
  },
  {
   "cell_type": "code",
   "execution_count": 33,
   "metadata": {},
   "outputs": [
    {
     "data": {
      "text/plain": [
       "Index(['Date', 'Price', 'Open', 'High', 'Low', 'Chg%'], dtype='object')"
      ]
     },
     "execution_count": 33,
     "metadata": {},
     "output_type": "execute_result"
    }
   ],
   "source": [
    "oro.columns"
   ]
  },
  {
   "cell_type": "code",
   "execution_count": 81,
   "metadata": {},
   "outputs": [],
   "source": [
    "\n",
    "nuevaoro = oro.rename(columns ={'Date':'Fecha', 'Price': 'PrecioProm', 'Open': 'Apertura', 'High':'Maximo', 'Low':'Minimo','Chg%':'Cambio'})"
   ]
  },
  {
   "cell_type": "code",
   "execution_count": 82,
   "metadata": {},
   "outputs": [
    {
     "data": {
      "text/html": [
       "<div>\n",
       "<style scoped>\n",
       "    .dataframe tbody tr th:only-of-type {\n",
       "        vertical-align: middle;\n",
       "    }\n",
       "\n",
       "    .dataframe tbody tr th {\n",
       "        vertical-align: top;\n",
       "    }\n",
       "\n",
       "    .dataframe thead th {\n",
       "        text-align: right;\n",
       "    }\n",
       "</style>\n",
       "<table border=\"1\" class=\"dataframe\">\n",
       "  <thead>\n",
       "    <tr style=\"text-align: right;\">\n",
       "      <th></th>\n",
       "      <th>Fecha</th>\n",
       "      <th>PrecioProm</th>\n",
       "      <th>Apertura</th>\n",
       "      <th>Maximo</th>\n",
       "      <th>Minimo</th>\n",
       "      <th>Cambio</th>\n",
       "    </tr>\n",
       "  </thead>\n",
       "  <tbody>\n",
       "    <tr>\n",
       "      <th>0</th>\n",
       "      <td>Sep 11, 2020</td>\n",
       "      <td>1957.35</td>\n",
       "      <td>1952.55</td>\n",
       "      <td>1963.3</td>\n",
       "      <td>1944.35</td>\n",
       "      <td>-0.0035</td>\n",
       "    </tr>\n",
       "    <tr>\n",
       "      <th>1</th>\n",
       "      <td>Sep 10, 2020</td>\n",
       "      <td>1964.30</td>\n",
       "      <td>1955.30</td>\n",
       "      <td>1975.2</td>\n",
       "      <td>1948.60</td>\n",
       "      <td>0.0048</td>\n",
       "    </tr>\n",
       "    <tr>\n",
       "      <th>2</th>\n",
       "      <td>Sep 09, 2020</td>\n",
       "      <td>1954.90</td>\n",
       "      <td>1939.40</td>\n",
       "      <td>1959.7</td>\n",
       "      <td>1926.30</td>\n",
       "      <td>0.0060</td>\n",
       "    </tr>\n",
       "    <tr>\n",
       "      <th>3</th>\n",
       "      <td>Sep 08, 2020</td>\n",
       "      <td>1943.20</td>\n",
       "      <td>1938.00</td>\n",
       "      <td>1948.3</td>\n",
       "      <td>1911.70</td>\n",
       "      <td>0.0031</td>\n",
       "    </tr>\n",
       "    <tr>\n",
       "      <th>4</th>\n",
       "      <td>Sep 07, 2020</td>\n",
       "      <td>1937.10</td>\n",
       "      <td>1940.70</td>\n",
       "      <td>1947.4</td>\n",
       "      <td>1930.45</td>\n",
       "      <td>-0.0018</td>\n",
       "    </tr>\n",
       "    <tr>\n",
       "      <th>...</th>\n",
       "      <td>...</td>\n",
       "      <td>...</td>\n",
       "      <td>...</td>\n",
       "      <td>...</td>\n",
       "      <td>...</td>\n",
       "      <td>...</td>\n",
       "    </tr>\n",
       "    <tr>\n",
       "      <th>2526</th>\n",
       "      <td>Jan 07, 2011</td>\n",
       "      <td>1368.50</td>\n",
       "      <td>1372.70</td>\n",
       "      <td>1377.2</td>\n",
       "      <td>1355.50</td>\n",
       "      <td>-0.0021</td>\n",
       "    </tr>\n",
       "    <tr>\n",
       "      <th>2527</th>\n",
       "      <td>Jan 06, 2011</td>\n",
       "      <td>1371.40</td>\n",
       "      <td>1374.80</td>\n",
       "      <td>1376.5</td>\n",
       "      <td>1368.90</td>\n",
       "      <td>-0.0015</td>\n",
       "    </tr>\n",
       "    <tr>\n",
       "      <th>2528</th>\n",
       "      <td>Jan 05, 2011</td>\n",
       "      <td>1373.40</td>\n",
       "      <td>1383.40</td>\n",
       "      <td>1384.0</td>\n",
       "      <td>1364.20</td>\n",
       "      <td>-0.0037</td>\n",
       "    </tr>\n",
       "    <tr>\n",
       "      <th>2529</th>\n",
       "      <td>Jan 04, 2011</td>\n",
       "      <td>1378.50</td>\n",
       "      <td>1409.60</td>\n",
       "      <td>1410.9</td>\n",
       "      <td>1375.80</td>\n",
       "      <td>-0.0310</td>\n",
       "    </tr>\n",
       "    <tr>\n",
       "      <th>2530</th>\n",
       "      <td>Jan 03, 2011</td>\n",
       "      <td>1422.60</td>\n",
       "      <td>1415.60</td>\n",
       "      <td>1423.9</td>\n",
       "      <td>1413.70</td>\n",
       "      <td>0.0011</td>\n",
       "    </tr>\n",
       "  </tbody>\n",
       "</table>\n",
       "<p>2531 rows × 6 columns</p>\n",
       "</div>"
      ],
      "text/plain": [
       "             Fecha  PrecioProm  Apertura  Maximo   Minimo  Cambio\n",
       "0     Sep 11, 2020     1957.35   1952.55  1963.3  1944.35 -0.0035\n",
       "1     Sep 10, 2020     1964.30   1955.30  1975.2  1948.60  0.0048\n",
       "2     Sep 09, 2020     1954.90   1939.40  1959.7  1926.30  0.0060\n",
       "3     Sep 08, 2020     1943.20   1938.00  1948.3  1911.70  0.0031\n",
       "4     Sep 07, 2020     1937.10   1940.70  1947.4  1930.45 -0.0018\n",
       "...            ...         ...       ...     ...      ...     ...\n",
       "2526  Jan 07, 2011     1368.50   1372.70  1377.2  1355.50 -0.0021\n",
       "2527  Jan 06, 2011     1371.40   1374.80  1376.5  1368.90 -0.0015\n",
       "2528  Jan 05, 2011     1373.40   1383.40  1384.0  1364.20 -0.0037\n",
       "2529  Jan 04, 2011     1378.50   1409.60  1410.9  1375.80 -0.0310\n",
       "2530  Jan 03, 2011     1422.60   1415.60  1423.9  1413.70  0.0011\n",
       "\n",
       "[2531 rows x 6 columns]"
      ]
     },
     "execution_count": 82,
     "metadata": {},
     "output_type": "execute_result"
    }
   ],
   "source": [
    "nuevaoro"
   ]
  },
  {
   "cell_type": "code",
   "execution_count": 86,
   "metadata": {},
   "outputs": [
    {
     "data": {
      "text/html": [
       "<div>\n",
       "<style scoped>\n",
       "    .dataframe tbody tr th:only-of-type {\n",
       "        vertical-align: middle;\n",
       "    }\n",
       "\n",
       "    .dataframe tbody tr th {\n",
       "        vertical-align: top;\n",
       "    }\n",
       "\n",
       "    .dataframe thead th {\n",
       "        text-align: right;\n",
       "    }\n",
       "</style>\n",
       "<table border=\"1\" class=\"dataframe\">\n",
       "  <thead>\n",
       "    <tr style=\"text-align: right;\">\n",
       "      <th></th>\n",
       "      <th>Fecha</th>\n",
       "      <th>PrecioProm</th>\n",
       "      <th>Apertura</th>\n",
       "      <th>Maximo</th>\n",
       "      <th>Minimo</th>\n",
       "    </tr>\n",
       "  </thead>\n",
       "  <tbody>\n",
       "    <tr>\n",
       "      <th>0</th>\n",
       "      <td>Sep 11, 2020</td>\n",
       "      <td>1957.35</td>\n",
       "      <td>1952.55</td>\n",
       "      <td>1963.3</td>\n",
       "      <td>1944.35</td>\n",
       "    </tr>\n",
       "    <tr>\n",
       "      <th>1</th>\n",
       "      <td>Sep 10, 2020</td>\n",
       "      <td>1964.30</td>\n",
       "      <td>1955.30</td>\n",
       "      <td>1975.2</td>\n",
       "      <td>1948.60</td>\n",
       "    </tr>\n",
       "    <tr>\n",
       "      <th>2</th>\n",
       "      <td>Sep 09, 2020</td>\n",
       "      <td>1954.90</td>\n",
       "      <td>1939.40</td>\n",
       "      <td>1959.7</td>\n",
       "      <td>1926.30</td>\n",
       "    </tr>\n",
       "    <tr>\n",
       "      <th>3</th>\n",
       "      <td>Sep 08, 2020</td>\n",
       "      <td>1943.20</td>\n",
       "      <td>1938.00</td>\n",
       "      <td>1948.3</td>\n",
       "      <td>1911.70</td>\n",
       "    </tr>\n",
       "    <tr>\n",
       "      <th>4</th>\n",
       "      <td>Sep 07, 2020</td>\n",
       "      <td>1937.10</td>\n",
       "      <td>1940.70</td>\n",
       "      <td>1947.4</td>\n",
       "      <td>1930.45</td>\n",
       "    </tr>\n",
       "    <tr>\n",
       "      <th>...</th>\n",
       "      <td>...</td>\n",
       "      <td>...</td>\n",
       "      <td>...</td>\n",
       "      <td>...</td>\n",
       "      <td>...</td>\n",
       "    </tr>\n",
       "    <tr>\n",
       "      <th>2526</th>\n",
       "      <td>Jan 07, 2011</td>\n",
       "      <td>1368.50</td>\n",
       "      <td>1372.70</td>\n",
       "      <td>1377.2</td>\n",
       "      <td>1355.50</td>\n",
       "    </tr>\n",
       "    <tr>\n",
       "      <th>2527</th>\n",
       "      <td>Jan 06, 2011</td>\n",
       "      <td>1371.40</td>\n",
       "      <td>1374.80</td>\n",
       "      <td>1376.5</td>\n",
       "      <td>1368.90</td>\n",
       "    </tr>\n",
       "    <tr>\n",
       "      <th>2528</th>\n",
       "      <td>Jan 05, 2011</td>\n",
       "      <td>1373.40</td>\n",
       "      <td>1383.40</td>\n",
       "      <td>1384.0</td>\n",
       "      <td>1364.20</td>\n",
       "    </tr>\n",
       "    <tr>\n",
       "      <th>2529</th>\n",
       "      <td>Jan 04, 2011</td>\n",
       "      <td>1378.50</td>\n",
       "      <td>1409.60</td>\n",
       "      <td>1410.9</td>\n",
       "      <td>1375.80</td>\n",
       "    </tr>\n",
       "    <tr>\n",
       "      <th>2530</th>\n",
       "      <td>Jan 03, 2011</td>\n",
       "      <td>1422.60</td>\n",
       "      <td>1415.60</td>\n",
       "      <td>1423.9</td>\n",
       "      <td>1413.70</td>\n",
       "    </tr>\n",
       "  </tbody>\n",
       "</table>\n",
       "<p>2531 rows × 5 columns</p>\n",
       "</div>"
      ],
      "text/plain": [
       "             Fecha  PrecioProm  Apertura  Maximo   Minimo\n",
       "0     Sep 11, 2020     1957.35   1952.55  1963.3  1944.35\n",
       "1     Sep 10, 2020     1964.30   1955.30  1975.2  1948.60\n",
       "2     Sep 09, 2020     1954.90   1939.40  1959.7  1926.30\n",
       "3     Sep 08, 2020     1943.20   1938.00  1948.3  1911.70\n",
       "4     Sep 07, 2020     1937.10   1940.70  1947.4  1930.45\n",
       "...            ...         ...       ...     ...      ...\n",
       "2526  Jan 07, 2011     1368.50   1372.70  1377.2  1355.50\n",
       "2527  Jan 06, 2011     1371.40   1374.80  1376.5  1368.90\n",
       "2528  Jan 05, 2011     1373.40   1383.40  1384.0  1364.20\n",
       "2529  Jan 04, 2011     1378.50   1409.60  1410.9  1375.80\n",
       "2530  Jan 03, 2011     1422.60   1415.60  1423.9  1413.70\n",
       "\n",
       "[2531 rows x 5 columns]"
      ]
     },
     "execution_count": 86,
     "metadata": {},
     "output_type": "execute_result"
    }
   ],
   "source": [
    "preciosoro = nuevaoro.drop('Cambio',axis = 1 )\n",
    "preciosoro"
   ]
  },
  {
   "cell_type": "markdown",
   "metadata": {},
   "source": [
    "- Para esta base, no se elimino ninguna columna por que por el momento todas pueden tener diferentes utilidades que nos ayuden a nuestro objetivo\n",
    "- Solo se cambiaron los nombres de las columnas a español por practicidad\n",
    "- Se creo una segunda base de datos la cual servira para hacer calculos y solo tomara en cuenta los precios del oro"
   ]
  },
  {
   "cell_type": "markdown",
   "metadata": {},
   "source": [
    " La fecha nos indica en la fecha que estamos hablando y es un objeto es decir una secuencia de caracteres\n",
    "PrecioProm nos indica el precio promedio en ese dia\n",
    "Apertura nos dice cual fue el precio inicial en ese dia\n",
    "High nos indica cual fue su precio mas alto\n",
    "Low nos indica el precio mas bajo en ese dia \n",
    "cambio nos indica el porcentaje de cambio con respecto al dia anterior\n",
    "y todos los datos son flotantes de 64 bitz"
   ]
  },
  {
   "cell_type": "markdown",
   "metadata": {},
   "source": [
    "# Datos Nulos\n",
    "verificamos la existencia de datos nulos"
   ]
  },
  {
   "cell_type": "code",
   "execution_count": 36,
   "metadata": {},
   "outputs": [
    {
     "data": {
      "text/html": [
       "<div>\n",
       "<style scoped>\n",
       "    .dataframe tbody tr th:only-of-type {\n",
       "        vertical-align: middle;\n",
       "    }\n",
       "\n",
       "    .dataframe tbody tr th {\n",
       "        vertical-align: top;\n",
       "    }\n",
       "\n",
       "    .dataframe thead th {\n",
       "        text-align: right;\n",
       "    }\n",
       "</style>\n",
       "<table border=\"1\" class=\"dataframe\">\n",
       "  <thead>\n",
       "    <tr style=\"text-align: right;\">\n",
       "      <th></th>\n",
       "      <th>Fecha</th>\n",
       "      <th>PrecioProm</th>\n",
       "      <th>Apertura</th>\n",
       "      <th>Maximo</th>\n",
       "      <th>Minimo</th>\n",
       "      <th>Cambio</th>\n",
       "    </tr>\n",
       "  </thead>\n",
       "  <tbody>\n",
       "    <tr>\n",
       "      <th>0</th>\n",
       "      <td>False</td>\n",
       "      <td>False</td>\n",
       "      <td>False</td>\n",
       "      <td>False</td>\n",
       "      <td>False</td>\n",
       "      <td>False</td>\n",
       "    </tr>\n",
       "    <tr>\n",
       "      <th>1</th>\n",
       "      <td>False</td>\n",
       "      <td>False</td>\n",
       "      <td>False</td>\n",
       "      <td>False</td>\n",
       "      <td>False</td>\n",
       "      <td>False</td>\n",
       "    </tr>\n",
       "    <tr>\n",
       "      <th>2</th>\n",
       "      <td>False</td>\n",
       "      <td>False</td>\n",
       "      <td>False</td>\n",
       "      <td>False</td>\n",
       "      <td>False</td>\n",
       "      <td>False</td>\n",
       "    </tr>\n",
       "    <tr>\n",
       "      <th>3</th>\n",
       "      <td>False</td>\n",
       "      <td>False</td>\n",
       "      <td>False</td>\n",
       "      <td>False</td>\n",
       "      <td>False</td>\n",
       "      <td>False</td>\n",
       "    </tr>\n",
       "    <tr>\n",
       "      <th>4</th>\n",
       "      <td>False</td>\n",
       "      <td>False</td>\n",
       "      <td>False</td>\n",
       "      <td>False</td>\n",
       "      <td>False</td>\n",
       "      <td>False</td>\n",
       "    </tr>\n",
       "    <tr>\n",
       "      <th>...</th>\n",
       "      <td>...</td>\n",
       "      <td>...</td>\n",
       "      <td>...</td>\n",
       "      <td>...</td>\n",
       "      <td>...</td>\n",
       "      <td>...</td>\n",
       "    </tr>\n",
       "    <tr>\n",
       "      <th>2526</th>\n",
       "      <td>False</td>\n",
       "      <td>False</td>\n",
       "      <td>False</td>\n",
       "      <td>False</td>\n",
       "      <td>False</td>\n",
       "      <td>False</td>\n",
       "    </tr>\n",
       "    <tr>\n",
       "      <th>2527</th>\n",
       "      <td>False</td>\n",
       "      <td>False</td>\n",
       "      <td>False</td>\n",
       "      <td>False</td>\n",
       "      <td>False</td>\n",
       "      <td>False</td>\n",
       "    </tr>\n",
       "    <tr>\n",
       "      <th>2528</th>\n",
       "      <td>False</td>\n",
       "      <td>False</td>\n",
       "      <td>False</td>\n",
       "      <td>False</td>\n",
       "      <td>False</td>\n",
       "      <td>False</td>\n",
       "    </tr>\n",
       "    <tr>\n",
       "      <th>2529</th>\n",
       "      <td>False</td>\n",
       "      <td>False</td>\n",
       "      <td>False</td>\n",
       "      <td>False</td>\n",
       "      <td>False</td>\n",
       "      <td>False</td>\n",
       "    </tr>\n",
       "    <tr>\n",
       "      <th>2530</th>\n",
       "      <td>False</td>\n",
       "      <td>False</td>\n",
       "      <td>False</td>\n",
       "      <td>False</td>\n",
       "      <td>False</td>\n",
       "      <td>False</td>\n",
       "    </tr>\n",
       "  </tbody>\n",
       "</table>\n",
       "<p>2531 rows × 6 columns</p>\n",
       "</div>"
      ],
      "text/plain": [
       "      Fecha  PrecioProm  Apertura  Maximo  Minimo  Cambio\n",
       "0     False       False     False   False   False   False\n",
       "1     False       False     False   False   False   False\n",
       "2     False       False     False   False   False   False\n",
       "3     False       False     False   False   False   False\n",
       "4     False       False     False   False   False   False\n",
       "...     ...         ...       ...     ...     ...     ...\n",
       "2526  False       False     False   False   False   False\n",
       "2527  False       False     False   False   False   False\n",
       "2528  False       False     False   False   False   False\n",
       "2529  False       False     False   False   False   False\n",
       "2530  False       False     False   False   False   False\n",
       "\n",
       "[2531 rows x 6 columns]"
      ]
     },
     "execution_count": 36,
     "metadata": {},
     "output_type": "execute_result"
    }
   ],
   "source": [
    "nuevaoro.isnull()"
   ]
  },
  {
   "cell_type": "code",
   "execution_count": 37,
   "metadata": {},
   "outputs": [
    {
     "data": {
      "text/plain": [
       "Fecha         False\n",
       "PrecioProm    False\n",
       "Apertura      False\n",
       "Maximo        False\n",
       "Minimo        False\n",
       "Cambio        False\n",
       "dtype: bool"
      ]
     },
     "execution_count": 37,
     "metadata": {},
     "output_type": "execute_result"
    }
   ],
   "source": [
    "nuevaoro.isnull().any()"
   ]
  },
  {
   "cell_type": "markdown",
   "metadata": {},
   "source": [
    "Podemos ver que todas las casillas contienen datos por que lo que no contiene datos vacios"
   ]
  },
  {
   "cell_type": "code",
   "execution_count": 38,
   "metadata": {},
   "outputs": [
    {
     "data": {
      "text/plain": [
       "Fecha         0\n",
       "PrecioProm    0\n",
       "Apertura      0\n",
       "Maximo        0\n",
       "Minimo        0\n",
       "Cambio        0\n",
       "dtype: int64"
      ]
     },
     "execution_count": 38,
     "metadata": {},
     "output_type": "execute_result"
    }
   ],
   "source": [
    "nuevaoro.isnull().sum()\n"
   ]
  },
  {
   "cell_type": "markdown",
   "metadata": {},
   "source": [
    "### La base no contiene datos nulos por lo que no fue necesario la eliminacion de estos datos"
   ]
  },
  {
   "cell_type": "markdown",
   "metadata": {},
   "source": [
    "# Estadistica basica de los datos"
   ]
  },
  {
   "cell_type": "code",
   "execution_count": 39,
   "metadata": {},
   "outputs": [
    {
     "data": {
      "text/html": [
       "<div>\n",
       "<style scoped>\n",
       "    .dataframe tbody tr th:only-of-type {\n",
       "        vertical-align: middle;\n",
       "    }\n",
       "\n",
       "    .dataframe tbody tr th {\n",
       "        vertical-align: top;\n",
       "    }\n",
       "\n",
       "    .dataframe thead th {\n",
       "        text-align: right;\n",
       "    }\n",
       "</style>\n",
       "<table border=\"1\" class=\"dataframe\">\n",
       "  <thead>\n",
       "    <tr style=\"text-align: right;\">\n",
       "      <th></th>\n",
       "      <th>PrecioProm</th>\n",
       "      <th>Apertura</th>\n",
       "      <th>Maximo</th>\n",
       "      <th>Minimo</th>\n",
       "      <th>Cambio</th>\n",
       "    </tr>\n",
       "  </thead>\n",
       "  <tbody>\n",
       "    <tr>\n",
       "      <th>count</th>\n",
       "      <td>2531.000000</td>\n",
       "      <td>2531.000000</td>\n",
       "      <td>2531.000000</td>\n",
       "      <td>2531.000000</td>\n",
       "      <td>2531.000000</td>\n",
       "    </tr>\n",
       "    <tr>\n",
       "      <th>mean</th>\n",
       "      <td>1428.516148</td>\n",
       "      <td>1421.804058</td>\n",
       "      <td>1426.688119</td>\n",
       "      <td>1416.290885</td>\n",
       "      <td>0.000254</td>\n",
       "    </tr>\n",
       "    <tr>\n",
       "      <th>std</th>\n",
       "      <td>179.401005</td>\n",
       "      <td>183.482977</td>\n",
       "      <td>187.313509</td>\n",
       "      <td>179.204684</td>\n",
       "      <td>0.016016</td>\n",
       "    </tr>\n",
       "    <tr>\n",
       "      <th>min</th>\n",
       "      <td>1070.800000</td>\n",
       "      <td>1070.100000</td>\n",
       "      <td>1074.200000</td>\n",
       "      <td>1069.200000</td>\n",
       "      <td>-0.111300</td>\n",
       "    </tr>\n",
       "    <tr>\n",
       "      <th>25%</th>\n",
       "      <td>1300.200000</td>\n",
       "      <td>1291.350000</td>\n",
       "      <td>1293.885000</td>\n",
       "      <td>1288.300000</td>\n",
       "      <td>-0.004700</td>\n",
       "    </tr>\n",
       "    <tr>\n",
       "      <th>50%</th>\n",
       "      <td>1370.300000</td>\n",
       "      <td>1360.500000</td>\n",
       "      <td>1362.300000</td>\n",
       "      <td>1359.300000</td>\n",
       "      <td>0.000100</td>\n",
       "    </tr>\n",
       "    <tr>\n",
       "      <th>75%</th>\n",
       "      <td>1551.200000</td>\n",
       "      <td>1552.000000</td>\n",
       "      <td>1561.350000</td>\n",
       "      <td>1541.150000</td>\n",
       "      <td>0.005300</td>\n",
       "    </tr>\n",
       "    <tr>\n",
       "      <th>max</th>\n",
       "      <td>2069.400000</td>\n",
       "      <td>2076.400000</td>\n",
       "      <td>2089.200000</td>\n",
       "      <td>2049.000000</td>\n",
       "      <td>0.127100</td>\n",
       "    </tr>\n",
       "  </tbody>\n",
       "</table>\n",
       "</div>"
      ],
      "text/plain": [
       "        PrecioProm     Apertura       Maximo       Minimo       Cambio\n",
       "count  2531.000000  2531.000000  2531.000000  2531.000000  2531.000000\n",
       "mean   1428.516148  1421.804058  1426.688119  1416.290885     0.000254\n",
       "std     179.401005   183.482977   187.313509   179.204684     0.016016\n",
       "min    1070.800000  1070.100000  1074.200000  1069.200000    -0.111300\n",
       "25%    1300.200000  1291.350000  1293.885000  1288.300000    -0.004700\n",
       "50%    1370.300000  1360.500000  1362.300000  1359.300000     0.000100\n",
       "75%    1551.200000  1552.000000  1561.350000  1541.150000     0.005300\n",
       "max    2069.400000  2076.400000  2089.200000  2049.000000     0.127100"
      ]
     },
     "execution_count": 39,
     "metadata": {},
     "output_type": "execute_result"
    }
   ],
   "source": [
    "nuevaoro.describe()\n"
   ]
  },
  {
   "cell_type": "markdown",
   "metadata": {},
   "source": [
    "Los datos de dispersion y tendencia central nos son muy importantes puesto que nuestro proyecto consiste crear una regresion lineal, ademas de que estos datos nos ayudan para ver como se comporta el precio del oro a traves del dia y para ver si existe alguna anomalia es decir que el precio es mucho mayor al promedio o mucho menor."
   ]
  },
  {
   "cell_type": "code",
   "execution_count": 40,
   "metadata": {},
   "outputs": [
    {
     "data": {
      "text/html": [
       "<div>\n",
       "<style scoped>\n",
       "    .dataframe tbody tr th:only-of-type {\n",
       "        vertical-align: middle;\n",
       "    }\n",
       "\n",
       "    .dataframe tbody tr th {\n",
       "        vertical-align: top;\n",
       "    }\n",
       "\n",
       "    .dataframe thead th {\n",
       "        text-align: right;\n",
       "    }\n",
       "</style>\n",
       "<table border=\"1\" class=\"dataframe\">\n",
       "  <thead>\n",
       "    <tr style=\"text-align: right;\">\n",
       "      <th></th>\n",
       "      <th>PrecioProm</th>\n",
       "      <th>Apertura</th>\n",
       "      <th>Maximo</th>\n",
       "      <th>Minimo</th>\n",
       "      <th>Cambio</th>\n",
       "    </tr>\n",
       "  </thead>\n",
       "  <tbody>\n",
       "    <tr>\n",
       "      <th>PrecioProm</th>\n",
       "      <td>1.000000</td>\n",
       "      <td>0.984049</td>\n",
       "      <td>0.985651</td>\n",
       "      <td>0.984204</td>\n",
       "      <td>0.069178</td>\n",
       "    </tr>\n",
       "    <tr>\n",
       "      <th>Apertura</th>\n",
       "      <td>0.984049</td>\n",
       "      <td>1.000000</td>\n",
       "      <td>0.998967</td>\n",
       "      <td>0.998287</td>\n",
       "      <td>0.026734</td>\n",
       "    </tr>\n",
       "    <tr>\n",
       "      <th>Maximo</th>\n",
       "      <td>0.985651</td>\n",
       "      <td>0.998967</td>\n",
       "      <td>1.000000</td>\n",
       "      <td>0.997472</td>\n",
       "      <td>0.039588</td>\n",
       "    </tr>\n",
       "    <tr>\n",
       "      <th>Minimo</th>\n",
       "      <td>0.984204</td>\n",
       "      <td>0.998287</td>\n",
       "      <td>0.997472</td>\n",
       "      <td>1.000000</td>\n",
       "      <td>0.047424</td>\n",
       "    </tr>\n",
       "    <tr>\n",
       "      <th>Cambio</th>\n",
       "      <td>0.069178</td>\n",
       "      <td>0.026734</td>\n",
       "      <td>0.039588</td>\n",
       "      <td>0.047424</td>\n",
       "      <td>1.000000</td>\n",
       "    </tr>\n",
       "  </tbody>\n",
       "</table>\n",
       "</div>"
      ],
      "text/plain": [
       "            PrecioProm  Apertura    Maximo    Minimo    Cambio\n",
       "PrecioProm    1.000000  0.984049  0.985651  0.984204  0.069178\n",
       "Apertura      0.984049  1.000000  0.998967  0.998287  0.026734\n",
       "Maximo        0.985651  0.998967  1.000000  0.997472  0.039588\n",
       "Minimo        0.984204  0.998287  0.997472  1.000000  0.047424\n",
       "Cambio        0.069178  0.026734  0.039588  0.047424  1.000000"
      ]
     },
     "execution_count": 40,
     "metadata": {},
     "output_type": "execute_result"
    }
   ],
   "source": [
    "nuevaoro.corr()"
   ]
  },
  {
   "cell_type": "code",
   "execution_count": 41,
   "metadata": {},
   "outputs": [
    {
     "data": {
      "text/html": [
       "<div>\n",
       "<style scoped>\n",
       "    .dataframe tbody tr th:only-of-type {\n",
       "        vertical-align: middle;\n",
       "    }\n",
       "\n",
       "    .dataframe tbody tr th {\n",
       "        vertical-align: top;\n",
       "    }\n",
       "\n",
       "    .dataframe thead th {\n",
       "        text-align: right;\n",
       "    }\n",
       "</style>\n",
       "<table border=\"1\" class=\"dataframe\">\n",
       "  <thead>\n",
       "    <tr style=\"text-align: right;\">\n",
       "      <th></th>\n",
       "      <th>PrecioProm</th>\n",
       "      <th>Apertura</th>\n",
       "      <th>Maximo</th>\n",
       "      <th>Minimo</th>\n",
       "      <th>Cambio</th>\n",
       "    </tr>\n",
       "  </thead>\n",
       "  <tbody>\n",
       "    <tr>\n",
       "      <th>PrecioProm</th>\n",
       "      <td>32184.720559</td>\n",
       "      <td>32391.968946</td>\n",
       "      <td>33122.050826</td>\n",
       "      <td>31641.669106</td>\n",
       "      <td>0.198765</td>\n",
       "    </tr>\n",
       "    <tr>\n",
       "      <th>Apertura</th>\n",
       "      <td>32391.968946</td>\n",
       "      <td>33666.002812</td>\n",
       "      <td>34333.320894</td>\n",
       "      <td>32824.695846</td>\n",
       "      <td>0.078561</td>\n",
       "    </tr>\n",
       "    <tr>\n",
       "      <th>Maximo</th>\n",
       "      <td>33122.050826</td>\n",
       "      <td>34333.320894</td>\n",
       "      <td>35086.350571</td>\n",
       "      <td>33482.610029</td>\n",
       "      <td>0.118762</td>\n",
       "    </tr>\n",
       "    <tr>\n",
       "      <th>Minimo</th>\n",
       "      <td>31641.669106</td>\n",
       "      <td>32824.695846</td>\n",
       "      <td>33482.610029</td>\n",
       "      <td>32114.318603</td>\n",
       "      <td>0.136111</td>\n",
       "    </tr>\n",
       "    <tr>\n",
       "      <th>Cambio</th>\n",
       "      <td>0.198765</td>\n",
       "      <td>0.078561</td>\n",
       "      <td>0.118762</td>\n",
       "      <td>0.136111</td>\n",
       "      <td>0.000257</td>\n",
       "    </tr>\n",
       "  </tbody>\n",
       "</table>\n",
       "</div>"
      ],
      "text/plain": [
       "              PrecioProm      Apertura        Maximo        Minimo    Cambio\n",
       "PrecioProm  32184.720559  32391.968946  33122.050826  31641.669106  0.198765\n",
       "Apertura    32391.968946  33666.002812  34333.320894  32824.695846  0.078561\n",
       "Maximo      33122.050826  34333.320894  35086.350571  33482.610029  0.118762\n",
       "Minimo      31641.669106  32824.695846  33482.610029  32114.318603  0.136111\n",
       "Cambio          0.198765      0.078561      0.118762      0.136111  0.000257"
      ]
     },
     "execution_count": 41,
     "metadata": {},
     "output_type": "execute_result"
    }
   ],
   "source": [
    "nuevaoro.cov()"
   ]
  },
  {
   "cell_type": "markdown",
   "metadata": {},
   "source": [
    "Las tablas de covarianza y correlacion nos ayudan a verificar que los datos se comportan muy similares entre si, ademas de que nos damos cuenta que tambien dentro del dia los precios siguen la misma tendencia"
   ]
  },
  {
   "cell_type": "markdown",
   "metadata": {},
   "source": [
    "\n"
   ]
  },
  {
   "cell_type": "markdown",
   "metadata": {},
   "source": [
    "# Graficas"
   ]
  },
  {
   "cell_type": "code",
   "execution_count": 87,
   "metadata": {},
   "outputs": [
    {
     "data": {
      "text/plain": [
       "<matplotlib.axes._subplots.AxesSubplot at 0x2da4c8b3670>"
      ]
     },
     "execution_count": 87,
     "metadata": {},
     "output_type": "execute_result"
    },
    {
     "data": {
      "image/png": "[encoded data removed]",
      "text/plain": [
       "<Figure size 432x288 with 1 Axes>"
      ]
     },
     "metadata": {
      "needs_background": "light"
     },
     "output_type": "display_data"
    }
   ],
   "source": [
    "preciosoro.plot.line()"
   ]
  },
  {
   "cell_type": "markdown",
   "metadata": {},
   "source": [
    "podemos ver que el los precios del oro promedio, el mas alto y mas bajo son practicamente los mismos por lo que no existen cambios drasticos, ademas se puede apreciar que no existe una tendencia marcada en el precio del oro"
   ]
  },
  {
   "cell_type": "code",
   "execution_count": 88,
   "metadata": {},
   "outputs": [
    {
     "data": {
      "text/plain": [
       "<matplotlib.axes._subplots.AxesSubplot at 0x2da4c933a90>"
      ]
     },
     "execution_count": 88,
     "metadata": {},
     "output_type": "execute_result"
    },
    {
     "data": {
      "image/png": "[encoded data removed]",
      "text/plain": [
       "<Figure size 432x288 with 1 Axes>"
      ]
     },
     "metadata": {
      "needs_background": "light"
     },
     "output_type": "display_data"
    }
   ],
   "source": [
    "nuevaoro['Cambio'].plot.line()"
   ]
  },
  {
   "cell_type": "code",
   "execution_count": 44,
   "metadata": {},
   "outputs": [],
   "source": [
    "import seaborn as sns\n"
   ]
  },
  {
   "cell_type": "code",
   "execution_count": 89,
   "metadata": {},
   "outputs": [
    {
     "data": {
      "text/plain": [
       "<matplotlib.axes._subplots.AxesSubplot at 0x2da4c985e20>"
      ]
     },
     "execution_count": 89,
     "metadata": {},
     "output_type": "execute_result"
    },
    {
     "data": {
      "image/png": "[encoded data removed]",
      "text/plain": [
       "<Figure size 432x288 with 1 Axes>"
      ]
     },
     "metadata": {
      "needs_background": "light"
     },
     "output_type": "display_data"
    }
   ],
   "source": [
    "\n",
    "\n",
    "sns.boxplot(\n",
    "    data=preciosoro\n",
    ")"
   ]
  },
  {
   "cell_type": "markdown",
   "metadata": {},
   "source": [
    "Nos damos cuenta que los precios del oro se distribuyen practicamente igual lo que nos demuestra que no hay tantas variaciones duratne el dia, esto nos sirve por que queremos saber si es conveniente realizar transacciones durante un mismo dia"
   ]
  },
  {
   "cell_type": "code",
   "execution_count": 91,
   "metadata": {},
   "outputs": [
    {
     "data": {
      "text/plain": [
       "<matplotlib.axes._subplots.AxesSubplot at 0x2da4ca84a30>"
      ]
     },
     "execution_count": 91,
     "metadata": {},
     "output_type": "execute_result"
    },
    {
     "data": {
      "image/png": "[encoded data removed]",
      "text/plain": [
       "<Figure size 432x288 with 1 Axes>"
      ]
     },
     "metadata": {
      "needs_background": "light"
     },
     "output_type": "display_data"
    }
   ],
   "source": [
    "sns.boxplot(nuevaoro.Cambio)"
   ]
  },
  {
   "cell_type": "markdown",
   "metadata": {},
   "source": [
    "Del mismo modo podemos ver que los datos no cambian tanto dia con dia puesto que la mayoria estan centrados en el 0%\n"
   ]
  },
  {
   "cell_type": "code",
   "execution_count": 93,
   "metadata": {},
   "outputs": [
    {
     "data": {
      "text/plain": [
       "<matplotlib.axes._subplots.AxesSubplot at 0x2da4daa53d0>"
      ]
     },
     "execution_count": 93,
     "metadata": {},
     "output_type": "execute_result"
    },
    {
     "data": {
      "image/png": "[encoded data removed]",
      "text/plain": [
       "<Figure size 432x288 with 1 Axes>"
      ]
     },
     "metadata": {
      "needs_background": "light"
     },
     "output_type": "display_data"
    }
   ],
   "source": [
    "sns.violinplot(\n",
    "    data=preciosoro)"
   ]
  },
  {
   "cell_type": "markdown",
   "metadata": {},
   "source": [
    "# Conlusion:\n",
    "\n",
    "- Con estos primeros pasos que hemos realizado nos hemos dado cuenta de algunas cosas de nuestra base de datos, hemos observado como se comportan nuestros datos dia con dia y podemos ver la tendencia que ha ido teniendo el precio del oro desde el 2011, al visualizar estos datos o hemos podido identificar una tendencia clara que nos muestre como se va a comportar a futuro, por que necesitamos hacer mas analisis estadistico para poder calcular inferir sus precios futuros.\n",
    "- Con nuestras graficas pudimos ver que no existe gran cambio durante un mismo dia por lo que podriamos trabajar con un solo tipo de precio para realizar nuestras predicciones sobre el precio"
   ]
  },
  {
   "cell_type": "code",
   "execution_count": null,
   "metadata": {},
   "outputs": [],
   "source": []
  }
 ],
 "metadata": {
  "kernelspec": {
   "display_name": "Python 3",
   "language": "python",
   "name": "python3"
  },
  "language_info": {
   "codemirror_mode": {
    "name": "ipython",
    "version": 3
   },
   "file_extension": ".py",
   "mimetype": "text/x-python",
   "name": "python",
   "nbconvert_exporter": "python",
   "pygments_lexer": "ipython3",
   "version": "3.8.3"
  }
 },
 "nbformat": 4,
 "nbformat_minor": 4
}
