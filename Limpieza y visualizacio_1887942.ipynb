{
 "cells": [
  {
   "cell_type": "code",
   "execution_count": 2,
   "metadata": {},
   "outputs": [],
   "source": [
    "\n",
    "import pandas as pd\n",
    "import numpy as np\n",
    "import json\n",
    "oro = pd.read_csv(\"C:/Users/rafae/OneDrive/Documentos/fcfm/7 semestre/mineria/PrecioOro.csv\", encoding='utf8')"
   ]
  },
  {
   "cell_type": "code",
   "execution_count": 3,
   "metadata": {
    "scrolled": true
   },
   "outputs": [
    {
     "data": {
      "text/html": [
       "<div>\n",
       "<style scoped>\n",
       "    .dataframe tbody tr th:only-of-type {\n",
       "        vertical-align: middle;\n",
       "    }\n",
       "\n",
       "    .dataframe tbody tr th {\n",
       "        vertical-align: top;\n",
       "    }\n",
       "\n",
       "    .dataframe thead th {\n",
       "        text-align: right;\n",
       "    }\n",
       "</style>\n",
       "<table border=\"1\" class=\"dataframe\">\n",
       "  <thead>\n",
       "    <tr style=\"text-align: right;\">\n",
       "      <th></th>\n",
       "      <th>Date</th>\n",
       "      <th>Price</th>\n",
       "      <th>Open</th>\n",
       "      <th>High</th>\n",
       "      <th>Low</th>\n",
       "      <th>Chg%</th>\n",
       "    </tr>\n",
       "  </thead>\n",
       "  <tbody>\n",
       "    <tr>\n",
       "      <th>0</th>\n",
       "      <td>Sep 11, 2020</td>\n",
       "      <td>1957.35</td>\n",
       "      <td>1952.55</td>\n",
       "      <td>1963.3</td>\n",
       "      <td>1944.35</td>\n",
       "      <td>-0.0035</td>\n",
       "    </tr>\n",
       "    <tr>\n",
       "      <th>1</th>\n",
       "      <td>Sep 10, 2020</td>\n",
       "      <td>1964.30</td>\n",
       "      <td>1955.30</td>\n",
       "      <td>1975.2</td>\n",
       "      <td>1948.60</td>\n",
       "      <td>0.0048</td>\n",
       "    </tr>\n",
       "    <tr>\n",
       "      <th>2</th>\n",
       "      <td>Sep 09, 2020</td>\n",
       "      <td>1954.90</td>\n",
       "      <td>1939.40</td>\n",
       "      <td>1959.7</td>\n",
       "      <td>1926.30</td>\n",
       "      <td>0.0060</td>\n",
       "    </tr>\n",
       "    <tr>\n",
       "      <th>3</th>\n",
       "      <td>Sep 08, 2020</td>\n",
       "      <td>1943.20</td>\n",
       "      <td>1938.00</td>\n",
       "      <td>1948.3</td>\n",
       "      <td>1911.70</td>\n",
       "      <td>0.0031</td>\n",
       "    </tr>\n",
       "    <tr>\n",
       "      <th>4</th>\n",
       "      <td>Sep 07, 2020</td>\n",
       "      <td>1937.10</td>\n",
       "      <td>1940.70</td>\n",
       "      <td>1947.4</td>\n",
       "      <td>1930.45</td>\n",
       "      <td>-0.0018</td>\n",
       "    </tr>\n",
       "    <tr>\n",
       "      <th>...</th>\n",
       "      <td>...</td>\n",
       "      <td>...</td>\n",
       "      <td>...</td>\n",
       "      <td>...</td>\n",
       "      <td>...</td>\n",
       "      <td>...</td>\n",
       "    </tr>\n",
       "    <tr>\n",
       "      <th>2526</th>\n",
       "      <td>Jan 07, 2011</td>\n",
       "      <td>1368.50</td>\n",
       "      <td>1372.70</td>\n",
       "      <td>1377.2</td>\n",
       "      <td>1355.50</td>\n",
       "      <td>-0.0021</td>\n",
       "    </tr>\n",
       "    <tr>\n",
       "      <th>2527</th>\n",
       "      <td>Jan 06, 2011</td>\n",
       "      <td>1371.40</td>\n",
       "      <td>1374.80</td>\n",
       "      <td>1376.5</td>\n",
       "      <td>1368.90</td>\n",
       "      <td>-0.0015</td>\n",
       "    </tr>\n",
       "    <tr>\n",
       "      <th>2528</th>\n",
       "      <td>Jan 05, 2011</td>\n",
       "      <td>1373.40</td>\n",
       "      <td>1383.40</td>\n",
       "      <td>1384.0</td>\n",
       "      <td>1364.20</td>\n",
       "      <td>-0.0037</td>\n",
       "    </tr>\n",
       "    <tr>\n",
       "      <th>2529</th>\n",
       "      <td>Jan 04, 2011</td>\n",
       "      <td>1378.50</td>\n",
       "      <td>1409.60</td>\n",
       "      <td>1410.9</td>\n",
       "      <td>1375.80</td>\n",
       "      <td>-0.0310</td>\n",
       "    </tr>\n",
       "    <tr>\n",
       "      <th>2530</th>\n",
       "      <td>Jan 03, 2011</td>\n",
       "      <td>1422.60</td>\n",
       "      <td>1415.60</td>\n",
       "      <td>1423.9</td>\n",
       "      <td>1413.70</td>\n",
       "      <td>0.0011</td>\n",
       "    </tr>\n",
       "  </tbody>\n",
       "</table>\n",
       "<p>2531 rows × 6 columns</p>\n",
       "</div>"
      ],
      "text/plain": [
       "              Date    Price     Open    High      Low    Chg%\n",
       "0     Sep 11, 2020  1957.35  1952.55  1963.3  1944.35 -0.0035\n",
       "1     Sep 10, 2020  1964.30  1955.30  1975.2  1948.60  0.0048\n",
       "2     Sep 09, 2020  1954.90  1939.40  1959.7  1926.30  0.0060\n",
       "3     Sep 08, 2020  1943.20  1938.00  1948.3  1911.70  0.0031\n",
       "4     Sep 07, 2020  1937.10  1940.70  1947.4  1930.45 -0.0018\n",
       "...            ...      ...      ...     ...      ...     ...\n",
       "2526  Jan 07, 2011  1368.50  1372.70  1377.2  1355.50 -0.0021\n",
       "2527  Jan 06, 2011  1371.40  1374.80  1376.5  1368.90 -0.0015\n",
       "2528  Jan 05, 2011  1373.40  1383.40  1384.0  1364.20 -0.0037\n",
       "2529  Jan 04, 2011  1378.50  1409.60  1410.9  1375.80 -0.0310\n",
       "2530  Jan 03, 2011  1422.60  1415.60  1423.9  1413.70  0.0011\n",
       "\n",
       "[2531 rows x 6 columns]"
      ]
     },
     "execution_count": 3,
     "metadata": {},
     "output_type": "execute_result"
    }
   ],
   "source": [
    "oro"
   ]
  },
  {
   "cell_type": "code",
   "execution_count": 4,
   "metadata": {},
   "outputs": [
    {
     "data": {
      "text/plain": [
       "(2531, 6)"
      ]
     },
     "execution_count": 4,
     "metadata": {},
     "output_type": "execute_result"
    }
   ],
   "source": [
    "oro.shape"
   ]
  },
  {
   "cell_type": "code",
   "execution_count": 5,
   "metadata": {},
   "outputs": [
    {
     "data": {
      "text/plain": [
       "<bound method NDFrame.head of               Date    Price     Open    High      Low    Chg%\n",
       "0     Sep 11, 2020  1957.35  1952.55  1963.3  1944.35 -0.0035\n",
       "1     Sep 10, 2020  1964.30  1955.30  1975.2  1948.60  0.0048\n",
       "2     Sep 09, 2020  1954.90  1939.40  1959.7  1926.30  0.0060\n",
       "3     Sep 08, 2020  1943.20  1938.00  1948.3  1911.70  0.0031\n",
       "4     Sep 07, 2020  1937.10  1940.70  1947.4  1930.45 -0.0018\n",
       "...            ...      ...      ...     ...      ...     ...\n",
       "2526  Jan 07, 2011  1368.50  1372.70  1377.2  1355.50 -0.0021\n",
       "2527  Jan 06, 2011  1371.40  1374.80  1376.5  1368.90 -0.0015\n",
       "2528  Jan 05, 2011  1373.40  1383.40  1384.0  1364.20 -0.0037\n",
       "2529  Jan 04, 2011  1378.50  1409.60  1410.9  1375.80 -0.0310\n",
       "2530  Jan 03, 2011  1422.60  1415.60  1423.9  1413.70  0.0011\n",
       "\n",
       "[2531 rows x 6 columns]>"
      ]
     },
     "execution_count": 5,
     "metadata": {},
     "output_type": "execute_result"
    }
   ],
   "source": [
    "oro.head"
   ]
  },
  {
   "cell_type": "code",
   "execution_count": 6,
   "metadata": {},
   "outputs": [
    {
     "data": {
      "text/plain": [
       "<bound method NDFrame.tail of               Date    Price     Open    High      Low    Chg%\n",
       "0     Sep 11, 2020  1957.35  1952.55  1963.3  1944.35 -0.0035\n",
       "1     Sep 10, 2020  1964.30  1955.30  1975.2  1948.60  0.0048\n",
       "2     Sep 09, 2020  1954.90  1939.40  1959.7  1926.30  0.0060\n",
       "3     Sep 08, 2020  1943.20  1938.00  1948.3  1911.70  0.0031\n",
       "4     Sep 07, 2020  1937.10  1940.70  1947.4  1930.45 -0.0018\n",
       "...            ...      ...      ...     ...      ...     ...\n",
       "2526  Jan 07, 2011  1368.50  1372.70  1377.2  1355.50 -0.0021\n",
       "2527  Jan 06, 2011  1371.40  1374.80  1376.5  1368.90 -0.0015\n",
       "2528  Jan 05, 2011  1373.40  1383.40  1384.0  1364.20 -0.0037\n",
       "2529  Jan 04, 2011  1378.50  1409.60  1410.9  1375.80 -0.0310\n",
       "2530  Jan 03, 2011  1422.60  1415.60  1423.9  1413.70  0.0011\n",
       "\n",
       "[2531 rows x 6 columns]>"
      ]
     },
     "execution_count": 6,
     "metadata": {},
     "output_type": "execute_result"
    }
   ],
   "source": [
    "oro.tail"
   ]
  },
  {
   "cell_type": "code",
   "execution_count": 7,
   "metadata": {},
   "outputs": [
    {
     "data": {
      "text/plain": [
       "Index(['Date', 'Price', 'Open', 'High', 'Low', 'Chg%'], dtype='object')"
      ]
     },
     "execution_count": 7,
     "metadata": {},
     "output_type": "execute_result"
    }
   ],
   "source": [
    "oro.columns"
   ]
  },
  {
   "cell_type": "code",
   "execution_count": 8,
   "metadata": {},
   "outputs": [
    {
     "data": {
      "text/plain": [
       "Date      object\n",
       "Price    float64\n",
       "Open     float64\n",
       "High     float64\n",
       "Low      float64\n",
       "Chg%     float64\n",
       "dtype: object"
      ]
     },
     "execution_count": 8,
     "metadata": {},
     "output_type": "execute_result"
    }
   ],
   "source": [
    "oro.dtypes"
   ]
  },
  {
   "cell_type": "code",
   "execution_count": 9,
   "metadata": {},
   "outputs": [],
   "source": [
    "\n",
    "nuevaoro = oro.rename(columns ={'Date':'Fecha', 'Price': 'PrecioProm', 'Open': 'Apertura', 'Chg%':'Cambio'})"
   ]
  },
  {
   "cell_type": "code",
   "execution_count": 10,
   "metadata": {},
   "outputs": [
    {
     "data": {
      "text/html": [
       "<div>\n",
       "<style scoped>\n",
       "    .dataframe tbody tr th:only-of-type {\n",
       "        vertical-align: middle;\n",
       "    }\n",
       "\n",
       "    .dataframe tbody tr th {\n",
       "        vertical-align: top;\n",
       "    }\n",
       "\n",
       "    .dataframe thead th {\n",
       "        text-align: right;\n",
       "    }\n",
       "</style>\n",
       "<table border=\"1\" class=\"dataframe\">\n",
       "  <thead>\n",
       "    <tr style=\"text-align: right;\">\n",
       "      <th></th>\n",
       "      <th>Fecha</th>\n",
       "      <th>PrecioProm</th>\n",
       "      <th>Apertura</th>\n",
       "      <th>High</th>\n",
       "      <th>Low</th>\n",
       "      <th>Cambio</th>\n",
       "    </tr>\n",
       "  </thead>\n",
       "  <tbody>\n",
       "    <tr>\n",
       "      <th>0</th>\n",
       "      <td>Sep 11, 2020</td>\n",
       "      <td>1957.35</td>\n",
       "      <td>1952.55</td>\n",
       "      <td>1963.3</td>\n",
       "      <td>1944.35</td>\n",
       "      <td>-0.0035</td>\n",
       "    </tr>\n",
       "    <tr>\n",
       "      <th>1</th>\n",
       "      <td>Sep 10, 2020</td>\n",
       "      <td>1964.30</td>\n",
       "      <td>1955.30</td>\n",
       "      <td>1975.2</td>\n",
       "      <td>1948.60</td>\n",
       "      <td>0.0048</td>\n",
       "    </tr>\n",
       "    <tr>\n",
       "      <th>2</th>\n",
       "      <td>Sep 09, 2020</td>\n",
       "      <td>1954.90</td>\n",
       "      <td>1939.40</td>\n",
       "      <td>1959.7</td>\n",
       "      <td>1926.30</td>\n",
       "      <td>0.0060</td>\n",
       "    </tr>\n",
       "    <tr>\n",
       "      <th>3</th>\n",
       "      <td>Sep 08, 2020</td>\n",
       "      <td>1943.20</td>\n",
       "      <td>1938.00</td>\n",
       "      <td>1948.3</td>\n",
       "      <td>1911.70</td>\n",
       "      <td>0.0031</td>\n",
       "    </tr>\n",
       "    <tr>\n",
       "      <th>4</th>\n",
       "      <td>Sep 07, 2020</td>\n",
       "      <td>1937.10</td>\n",
       "      <td>1940.70</td>\n",
       "      <td>1947.4</td>\n",
       "      <td>1930.45</td>\n",
       "      <td>-0.0018</td>\n",
       "    </tr>\n",
       "    <tr>\n",
       "      <th>...</th>\n",
       "      <td>...</td>\n",
       "      <td>...</td>\n",
       "      <td>...</td>\n",
       "      <td>...</td>\n",
       "      <td>...</td>\n",
       "      <td>...</td>\n",
       "    </tr>\n",
       "    <tr>\n",
       "      <th>2526</th>\n",
       "      <td>Jan 07, 2011</td>\n",
       "      <td>1368.50</td>\n",
       "      <td>1372.70</td>\n",
       "      <td>1377.2</td>\n",
       "      <td>1355.50</td>\n",
       "      <td>-0.0021</td>\n",
       "    </tr>\n",
       "    <tr>\n",
       "      <th>2527</th>\n",
       "      <td>Jan 06, 2011</td>\n",
       "      <td>1371.40</td>\n",
       "      <td>1374.80</td>\n",
       "      <td>1376.5</td>\n",
       "      <td>1368.90</td>\n",
       "      <td>-0.0015</td>\n",
       "    </tr>\n",
       "    <tr>\n",
       "      <th>2528</th>\n",
       "      <td>Jan 05, 2011</td>\n",
       "      <td>1373.40</td>\n",
       "      <td>1383.40</td>\n",
       "      <td>1384.0</td>\n",
       "      <td>1364.20</td>\n",
       "      <td>-0.0037</td>\n",
       "    </tr>\n",
       "    <tr>\n",
       "      <th>2529</th>\n",
       "      <td>Jan 04, 2011</td>\n",
       "      <td>1378.50</td>\n",
       "      <td>1409.60</td>\n",
       "      <td>1410.9</td>\n",
       "      <td>1375.80</td>\n",
       "      <td>-0.0310</td>\n",
       "    </tr>\n",
       "    <tr>\n",
       "      <th>2530</th>\n",
       "      <td>Jan 03, 2011</td>\n",
       "      <td>1422.60</td>\n",
       "      <td>1415.60</td>\n",
       "      <td>1423.9</td>\n",
       "      <td>1413.70</td>\n",
       "      <td>0.0011</td>\n",
       "    </tr>\n",
       "  </tbody>\n",
       "</table>\n",
       "<p>2531 rows × 6 columns</p>\n",
       "</div>"
      ],
      "text/plain": [
       "             Fecha  PrecioProm  Apertura    High      Low  Cambio\n",
       "0     Sep 11, 2020     1957.35   1952.55  1963.3  1944.35 -0.0035\n",
       "1     Sep 10, 2020     1964.30   1955.30  1975.2  1948.60  0.0048\n",
       "2     Sep 09, 2020     1954.90   1939.40  1959.7  1926.30  0.0060\n",
       "3     Sep 08, 2020     1943.20   1938.00  1948.3  1911.70  0.0031\n",
       "4     Sep 07, 2020     1937.10   1940.70  1947.4  1930.45 -0.0018\n",
       "...            ...         ...       ...     ...      ...     ...\n",
       "2526  Jan 07, 2011     1368.50   1372.70  1377.2  1355.50 -0.0021\n",
       "2527  Jan 06, 2011     1371.40   1374.80  1376.5  1368.90 -0.0015\n",
       "2528  Jan 05, 2011     1373.40   1383.40  1384.0  1364.20 -0.0037\n",
       "2529  Jan 04, 2011     1378.50   1409.60  1410.9  1375.80 -0.0310\n",
       "2530  Jan 03, 2011     1422.60   1415.60  1423.9  1413.70  0.0011\n",
       "\n",
       "[2531 rows x 6 columns]"
      ]
     },
     "execution_count": 10,
     "metadata": {},
     "output_type": "execute_result"
    }
   ],
   "source": [
    "nuevaoro"
   ]
  },
  {
   "cell_type": "markdown",
   "metadata": {},
   "source": [
    "# Clasificacion Columnas"
   ]
  },
  {
   "cell_type": "code",
   "execution_count": 11,
   "metadata": {},
   "outputs": [
    {
     "data": {
      "text/plain": [
       "Fecha          object\n",
       "PrecioProm    float64\n",
       "Apertura      float64\n",
       "High          float64\n",
       "Low           float64\n",
       "Cambio        float64\n",
       "dtype: object"
      ]
     },
     "execution_count": 11,
     "metadata": {},
     "output_type": "execute_result"
    }
   ],
   "source": [
    "nuevaoro.dtypes"
   ]
  },
  {
   "cell_type": "markdown",
   "metadata": {},
   "source": [
    " La fecha nos indica en la fecha que estamos hablando y es un objeto es decir una secuencia de caracteres\n",
    "PrecioProm nos indica el precio promedio en ese dia\n",
    "Apertura nos dice cual fue el precio inicial en ese dia\n",
    "High nos indica cual fue su precio mas alto\n",
    "Low nos indica el precio mas bajo en ese dia \n",
    "cambio nos indica el porcentaje de cambio con respecto al dia anterior\n",
    "y todos los datos son flotantes de 64 bitz"
   ]
  },
  {
   "cell_type": "markdown",
   "metadata": {},
   "source": [
    "# Datos Nulos"
   ]
  },
  {
   "cell_type": "code",
   "execution_count": 12,
   "metadata": {},
   "outputs": [
    {
     "data": {
      "text/html": [
       "<div>\n",
       "<style scoped>\n",
       "    .dataframe tbody tr th:only-of-type {\n",
       "        vertical-align: middle;\n",
       "    }\n",
       "\n",
       "    .dataframe tbody tr th {\n",
       "        vertical-align: top;\n",
       "    }\n",
       "\n",
       "    .dataframe thead th {\n",
       "        text-align: right;\n",
       "    }\n",
       "</style>\n",
       "<table border=\"1\" class=\"dataframe\">\n",
       "  <thead>\n",
       "    <tr style=\"text-align: right;\">\n",
       "      <th></th>\n",
       "      <th>Fecha</th>\n",
       "      <th>PrecioProm</th>\n",
       "      <th>Apertura</th>\n",
       "      <th>High</th>\n",
       "      <th>Low</th>\n",
       "      <th>Cambio</th>\n",
       "    </tr>\n",
       "  </thead>\n",
       "  <tbody>\n",
       "    <tr>\n",
       "      <th>0</th>\n",
       "      <td>False</td>\n",
       "      <td>False</td>\n",
       "      <td>False</td>\n",
       "      <td>False</td>\n",
       "      <td>False</td>\n",
       "      <td>False</td>\n",
       "    </tr>\n",
       "    <tr>\n",
       "      <th>1</th>\n",
       "      <td>False</td>\n",
       "      <td>False</td>\n",
       "      <td>False</td>\n",
       "      <td>False</td>\n",
       "      <td>False</td>\n",
       "      <td>False</td>\n",
       "    </tr>\n",
       "    <tr>\n",
       "      <th>2</th>\n",
       "      <td>False</td>\n",
       "      <td>False</td>\n",
       "      <td>False</td>\n",
       "      <td>False</td>\n",
       "      <td>False</td>\n",
       "      <td>False</td>\n",
       "    </tr>\n",
       "    <tr>\n",
       "      <th>3</th>\n",
       "      <td>False</td>\n",
       "      <td>False</td>\n",
       "      <td>False</td>\n",
       "      <td>False</td>\n",
       "      <td>False</td>\n",
       "      <td>False</td>\n",
       "    </tr>\n",
       "    <tr>\n",
       "      <th>4</th>\n",
       "      <td>False</td>\n",
       "      <td>False</td>\n",
       "      <td>False</td>\n",
       "      <td>False</td>\n",
       "      <td>False</td>\n",
       "      <td>False</td>\n",
       "    </tr>\n",
       "    <tr>\n",
       "      <th>...</th>\n",
       "      <td>...</td>\n",
       "      <td>...</td>\n",
       "      <td>...</td>\n",
       "      <td>...</td>\n",
       "      <td>...</td>\n",
       "      <td>...</td>\n",
       "    </tr>\n",
       "    <tr>\n",
       "      <th>2526</th>\n",
       "      <td>False</td>\n",
       "      <td>False</td>\n",
       "      <td>False</td>\n",
       "      <td>False</td>\n",
       "      <td>False</td>\n",
       "      <td>False</td>\n",
       "    </tr>\n",
       "    <tr>\n",
       "      <th>2527</th>\n",
       "      <td>False</td>\n",
       "      <td>False</td>\n",
       "      <td>False</td>\n",
       "      <td>False</td>\n",
       "      <td>False</td>\n",
       "      <td>False</td>\n",
       "    </tr>\n",
       "    <tr>\n",
       "      <th>2528</th>\n",
       "      <td>False</td>\n",
       "      <td>False</td>\n",
       "      <td>False</td>\n",
       "      <td>False</td>\n",
       "      <td>False</td>\n",
       "      <td>False</td>\n",
       "    </tr>\n",
       "    <tr>\n",
       "      <th>2529</th>\n",
       "      <td>False</td>\n",
       "      <td>False</td>\n",
       "      <td>False</td>\n",
       "      <td>False</td>\n",
       "      <td>False</td>\n",
       "      <td>False</td>\n",
       "    </tr>\n",
       "    <tr>\n",
       "      <th>2530</th>\n",
       "      <td>False</td>\n",
       "      <td>False</td>\n",
       "      <td>False</td>\n",
       "      <td>False</td>\n",
       "      <td>False</td>\n",
       "      <td>False</td>\n",
       "    </tr>\n",
       "  </tbody>\n",
       "</table>\n",
       "<p>2531 rows × 6 columns</p>\n",
       "</div>"
      ],
      "text/plain": [
       "      Fecha  PrecioProm  Apertura   High    Low  Cambio\n",
       "0     False       False     False  False  False   False\n",
       "1     False       False     False  False  False   False\n",
       "2     False       False     False  False  False   False\n",
       "3     False       False     False  False  False   False\n",
       "4     False       False     False  False  False   False\n",
       "...     ...         ...       ...    ...    ...     ...\n",
       "2526  False       False     False  False  False   False\n",
       "2527  False       False     False  False  False   False\n",
       "2528  False       False     False  False  False   False\n",
       "2529  False       False     False  False  False   False\n",
       "2530  False       False     False  False  False   False\n",
       "\n",
       "[2531 rows x 6 columns]"
      ]
     },
     "execution_count": 12,
     "metadata": {},
     "output_type": "execute_result"
    }
   ],
   "source": [
    "nuevaoro.isnull()"
   ]
  },
  {
   "cell_type": "code",
   "execution_count": 13,
   "metadata": {},
   "outputs": [
    {
     "data": {
      "text/plain": [
       "Fecha         False\n",
       "PrecioProm    False\n",
       "Apertura      False\n",
       "High          False\n",
       "Low           False\n",
       "Cambio        False\n",
       "dtype: bool"
      ]
     },
     "execution_count": 13,
     "metadata": {},
     "output_type": "execute_result"
    }
   ],
   "source": [
    "nuevaoro.isnull().any()"
   ]
  },
  {
   "cell_type": "markdown",
   "metadata": {},
   "source": [
    "Podemos ver que todas las casillas contienen datos por que lo que no contiene datos vacios"
   ]
  },
  {
   "cell_type": "code",
   "execution_count": 14,
   "metadata": {},
   "outputs": [
    {
     "data": {
      "text/plain": [
       "Fecha         0\n",
       "PrecioProm    0\n",
       "Apertura      0\n",
       "High          0\n",
       "Low           0\n",
       "Cambio        0\n",
       "dtype: int64"
      ]
     },
     "execution_count": 14,
     "metadata": {},
     "output_type": "execute_result"
    }
   ],
   "source": [
    "nuevaoro.isnull().sum()\n"
   ]
  },
  {
   "cell_type": "markdown",
   "metadata": {},
   "source": [
    "#NO realizamos agrupaciones por que no se encontro alguna agrupacion util\n"
   ]
  },
  {
   "cell_type": "markdown",
   "metadata": {},
   "source": [
    "# Graficas"
   ]
  },
  {
   "cell_type": "code",
   "execution_count": 15,
   "metadata": {},
   "outputs": [
    {
     "data": {
      "text/plain": [
       "<matplotlib.axes._subplots.AxesSubplot at 0x24135c921f0>"
      ]
     },
     "execution_count": 15,
     "metadata": {},
     "output_type": "execute_result"
    },
    {
     "data": {
      "image/png": "[encoded data removed]",
      "text/plain": [
       "<Figure size 432x288 with 1 Axes>"
      ]
     },
     "metadata": {
      "needs_background": "light"
     },
     "output_type": "display_data"
    }
   ],
   "source": [
    "nuevaoro['PrecioProm'].value_counts().sort_index().plot.area()"
   ]
  },
  {
   "cell_type": "code",
   "execution_count": 16,
   "metadata": {},
   "outputs": [
    {
     "data": {
      "text/plain": [
       "<matplotlib.axes._subplots.AxesSubplot at 0x241364e55b0>"
      ]
     },
     "execution_count": 16,
     "metadata": {},
     "output_type": "execute_result"
    },
    {
     "data": {
      "image/png": "[encoded data removed]",
      "text/plain": [
       "<Figure size 432x288 with 1 Axes>"
      ]
     },
     "metadata": {
      "needs_background": "light"
     },
     "output_type": "display_data"
    }
   ],
   "source": [
    "nuevaoro.plot.line()"
   ]
  },
  {
   "cell_type": "markdown",
   "metadata": {},
   "source": [
    "podemos ver que el los precios del oro promedio, el mas alto y mas bajo son practicamente los mismos por lo que no existen cambios drasticos, ademas se puede apreciar que no existe una tendencia marcada en el precio del oro"
   ]
  },
  {
   "cell_type": "code",
   "execution_count": 17,
   "metadata": {},
   "outputs": [
    {
     "data": {
      "text/plain": [
       "<matplotlib.axes._subplots.AxesSubplot at 0x241365613a0>"
      ]
     },
     "execution_count": 17,
     "metadata": {},
     "output_type": "execute_result"
    },
    {
     "data": {
      "image/png": "[encoded data removed]",
      "text/plain": [
       "<Figure size 432x288 with 1 Axes>"
      ]
     },
     "metadata": {
      "needs_background": "light"
     },
     "output_type": "display_data"
    }
   ],
   "source": [
    "nuevaoro['PrecioProm'].plot.line()"
   ]
  },
  {
   "cell_type": "code",
   "execution_count": 18,
   "metadata": {},
   "outputs": [
    {
     "data": {
      "text/plain": [
       "<matplotlib.axes._subplots.AxesSubplot at 0x241365baf70>"
      ]
     },
     "execution_count": 18,
     "metadata": {},
     "output_type": "execute_result"
    },
    {
     "data": {
      "image/png": "[encoded data removed]",
      "text/plain": [
       "<Figure size 432x288 with 1 Axes>"
      ]
     },
     "metadata": {
      "needs_background": "light"
     },
     "output_type": "display_data"
    }
   ],
   "source": [
    "nuevaoro['Apertura'].plot.line()"
   ]
  },
  {
   "cell_type": "code",
   "execution_count": 19,
   "metadata": {},
   "outputs": [
    {
     "data": {
      "text/plain": [
       "<matplotlib.axes._subplots.AxesSubplot at 0x2413660e1f0>"
      ]
     },
     "execution_count": 19,
     "metadata": {},
     "output_type": "execute_result"
    },
    {
     "data": {
      "image/png": "[encoded data removed]",
      "text/plain": [
       "<Figure size 432x288 with 1 Axes>"
      ]
     },
     "metadata": {
      "needs_background": "light"
     },
     "output_type": "display_data"
    }
   ],
   "source": [
    "nuevaoro['High'].plot.line()"
   ]
  },
  {
   "cell_type": "code",
   "execution_count": 20,
   "metadata": {},
   "outputs": [
    {
     "data": {
      "text/plain": [
       "<matplotlib.axes._subplots.AxesSubplot at 0x24137631790>"
      ]
     },
     "execution_count": 20,
     "metadata": {},
     "output_type": "execute_result"
    },
    {
     "data": {
      "image/png": "[encoded data removed]",
      "text/plain": [
       "<Figure size 432x288 with 1 Axes>"
      ]
     },
     "metadata": {
      "needs_background": "light"
     },
     "output_type": "display_data"
    }
   ],
   "source": [
    "nuevaoro['Low'].plot.line()"
   ]
  },
  {
   "cell_type": "code",
   "execution_count": 21,
   "metadata": {},
   "outputs": [
    {
     "data": {
      "text/plain": [
       "<matplotlib.axes._subplots.AxesSubplot at 0x24137681d60>"
      ]
     },
     "execution_count": 21,
     "metadata": {},
     "output_type": "execute_result"
    },
    {
     "data": {
      "image/png": "[encoded data removed]",
      "text/plain": [
       "<Figure size 432x288 with 1 Axes>"
      ]
     },
     "metadata": {
      "needs_background": "light"
     },
     "output_type": "display_data"
    }
   ],
   "source": [
    "nuevaoro['Cambio'].plot.line()"
   ]
  },
  {
   "cell_type": "code",
   "execution_count": 22,
   "metadata": {},
   "outputs": [],
   "source": [
    "import seaborn as sns"
   ]
  },
  {
   "cell_type": "code",
   "execution_count": 23,
   "metadata": {},
   "outputs": [
    {
     "data": {
      "text/plain": [
       "<matplotlib.axes._subplots.AxesSubplot at 0x24138803a60>"
      ]
     },
     "execution_count": 23,
     "metadata": {},
     "output_type": "execute_result"
    },
    {
     "data": {
      "image/png": "[encoded data removed]",
      "text/plain": [
       "<Figure size 432x288 with 1 Axes>"
      ]
     },
     "metadata": {
      "needs_background": "light"
     },
     "output_type": "display_data"
    }
   ],
   "source": [
    "sns.boxplot(nuevaoro['PrecioProm'])\n"
   ]
  },
  {
   "cell_type": "code",
   "execution_count": 24,
   "metadata": {},
   "outputs": [
    {
     "data": {
      "text/plain": [
       "<matplotlib.axes._subplots.AxesSubplot at 0x24138866ac0>"
      ]
     },
     "execution_count": 24,
     "metadata": {},
     "output_type": "execute_result"
    },
    {
     "data": {
      "image/png": "[encoded data removed]",
      "text/plain": [
       "<Figure size 432x288 with 1 Axes>"
      ]
     },
     "metadata": {
      "needs_background": "light"
     },
     "output_type": "display_data"
    }
   ],
   "source": [
    "sns.boxplot(nuevaoro['Apertura'])"
   ]
  },
  {
   "cell_type": "code",
   "execution_count": 25,
   "metadata": {},
   "outputs": [
    {
     "data": {
      "text/plain": [
       "<matplotlib.axes._subplots.AxesSubplot at 0x241388bd880>"
      ]
     },
     "execution_count": 25,
     "metadata": {},
     "output_type": "execute_result"
    },
    {
     "data": {
      "image/png": "[encoded data removed]",
      "text/plain": [
       "<Figure size 432x288 with 1 Axes>"
      ]
     },
     "metadata": {
      "needs_background": "light"
     },
     "output_type": "display_data"
    }
   ],
   "source": [
    "sns.boxplot(nuevaoro['Cambio'])"
   ]
  },
  {
   "cell_type": "code",
   "execution_count": 26,
   "metadata": {},
   "outputs": [
    {
     "data": {
      "text/plain": [
       "<matplotlib.axes._subplots.AxesSubplot at 0x2413890c2b0>"
      ]
     },
     "execution_count": 26,
     "metadata": {},
     "output_type": "execute_result"
    },
    {
     "data": {
      "image/png": "[encoded data removed]",
      "text/plain": [
       "<Figure size 432x288 with 1 Axes>"
      ]
     },
     "metadata": {
      "needs_background": "light"
     },
     "output_type": "display_data"
    }
   ],
   "source": [
    "sns.violinplot(nuevaoro['PrecioProm'])"
   ]
  },
  {
   "cell_type": "code",
   "execution_count": 27,
   "metadata": {},
   "outputs": [
    {
     "data": {
      "text/plain": [
       "<matplotlib.axes._subplots.AxesSubplot at 0x241389672b0>"
      ]
     },
     "execution_count": 27,
     "metadata": {},
     "output_type": "execute_result"
    },
    {
     "data": {
      "image/png": "[encoded data removed]",
      "text/plain": [
       "<Figure size 432x288 with 1 Axes>"
      ]
     },
     "metadata": {
      "needs_background": "light"
     },
     "output_type": "display_data"
    }
   ],
   "source": [
    "sns.violinplot(nuevaoro['Apertura'])"
   ]
  },
  {
   "cell_type": "code",
   "execution_count": 28,
   "metadata": {},
   "outputs": [
    {
     "data": {
      "text/plain": [
       "<matplotlib.axes._subplots.AxesSubplot at 0x241389b40a0>"
      ]
     },
     "execution_count": 28,
     "metadata": {},
     "output_type": "execute_result"
    },
    {
     "data": {
      "image/png": "[encoded data removed]",
      "text/plain": [
       "<Figure size 432x288 with 1 Axes>"
      ]
     },
     "metadata": {
      "needs_background": "light"
     },
     "output_type": "display_data"
    }
   ],
   "source": [
    "sns.violinplot(nuevaoro['Cambio'])"
   ]
  },
  {
   "cell_type": "markdown",
   "metadata": {},
   "source": [
    "El box plot y violin plot nos muestran que los datos estan muy concentrados alrededor de su media por lo que no hay tanta varianza en los datos y podemos ver que no existen cambios tan drasticos en el precio del oro"
   ]
  },
  {
   "cell_type": "markdown",
   "metadata": {},
   "source": [
    "# Analisis Estadistico"
   ]
  },
  {
   "cell_type": "code",
   "execution_count": 31,
   "metadata": {},
   "outputs": [
    {
     "data": {
      "text/plain": [
       "count    2531.000000\n",
       "mean     1428.516148\n",
       "std       179.401005\n",
       "min      1070.800000\n",
       "25%      1300.200000\n",
       "50%      1370.300000\n",
       "75%      1551.200000\n",
       "max      2069.400000\n",
       "Name: PrecioProm, dtype: float64"
      ]
     },
     "execution_count": 31,
     "metadata": {},
     "output_type": "execute_result"
    }
   ],
   "source": [
    "nuevaoro['PrecioProm'].describe()"
   ]
  },
  {
   "cell_type": "code",
   "execution_count": 32,
   "metadata": {},
   "outputs": [
    {
     "data": {
      "text/plain": [
       "count    2531.000000\n",
       "mean     1421.804058\n",
       "std       183.482977\n",
       "min      1070.100000\n",
       "25%      1291.350000\n",
       "50%      1360.500000\n",
       "75%      1552.000000\n",
       "max      2076.400000\n",
       "Name: Apertura, dtype: float64"
      ]
     },
     "execution_count": 32,
     "metadata": {},
     "output_type": "execute_result"
    }
   ],
   "source": [
    "nuevaoro['Apertura'].describe()"
   ]
  },
  {
   "cell_type": "code",
   "execution_count": 33,
   "metadata": {},
   "outputs": [
    {
     "data": {
      "text/plain": [
       "count    2531.000000\n",
       "mean        0.000254\n",
       "std         0.016016\n",
       "min        -0.111300\n",
       "25%        -0.004700\n",
       "50%         0.000100\n",
       "75%         0.005300\n",
       "max         0.127100\n",
       "Name: Cambio, dtype: float64"
      ]
     },
     "execution_count": 33,
     "metadata": {},
     "output_type": "execute_result"
    }
   ],
   "source": [
    "nuevaoro['Cambio'].describe()"
   ]
  },
  {
   "cell_type": "code",
   "execution_count": 36,
   "metadata": {},
   "outputs": [
    {
     "data": {
      "text/plain": [
       "count    2531.000000\n",
       "mean     1426.688119\n",
       "std       187.313509\n",
       "min      1074.200000\n",
       "25%      1293.885000\n",
       "50%      1362.300000\n",
       "75%      1561.350000\n",
       "max      2089.200000\n",
       "Name: High, dtype: float64"
      ]
     },
     "execution_count": 36,
     "metadata": {},
     "output_type": "execute_result"
    }
   ],
   "source": [
    "nuevaoro['High'].describe()"
   ]
  },
  {
   "cell_type": "code",
   "execution_count": 37,
   "metadata": {},
   "outputs": [
    {
     "data": {
      "text/plain": [
       "count    2531.000000\n",
       "mean     1416.290885\n",
       "std       179.204684\n",
       "min      1069.200000\n",
       "25%      1288.300000\n",
       "50%      1359.300000\n",
       "75%      1541.150000\n",
       "max      2049.000000\n",
       "Name: Low, dtype: float64"
      ]
     },
     "execution_count": 37,
     "metadata": {},
     "output_type": "execute_result"
    }
   ],
   "source": [
    "nuevaoro['Low'].describe()"
   ]
  },
  {
   "cell_type": "code",
   "execution_count": 34,
   "metadata": {},
   "outputs": [
    {
     "data": {
      "text/html": [
       "<div>\n",
       "<style scoped>\n",
       "    .dataframe tbody tr th:only-of-type {\n",
       "        vertical-align: middle;\n",
       "    }\n",
       "\n",
       "    .dataframe tbody tr th {\n",
       "        vertical-align: top;\n",
       "    }\n",
       "\n",
       "    .dataframe thead th {\n",
       "        text-align: right;\n",
       "    }\n",
       "</style>\n",
       "<table border=\"1\" class=\"dataframe\">\n",
       "  <thead>\n",
       "    <tr style=\"text-align: right;\">\n",
       "      <th></th>\n",
       "      <th>PrecioProm</th>\n",
       "      <th>Apertura</th>\n",
       "      <th>High</th>\n",
       "      <th>Low</th>\n",
       "      <th>Cambio</th>\n",
       "    </tr>\n",
       "  </thead>\n",
       "  <tbody>\n",
       "    <tr>\n",
       "      <th>PrecioProm</th>\n",
       "      <td>1.000000</td>\n",
       "      <td>0.984049</td>\n",
       "      <td>0.985651</td>\n",
       "      <td>0.984204</td>\n",
       "      <td>0.069178</td>\n",
       "    </tr>\n",
       "    <tr>\n",
       "      <th>Apertura</th>\n",
       "      <td>0.984049</td>\n",
       "      <td>1.000000</td>\n",
       "      <td>0.998967</td>\n",
       "      <td>0.998287</td>\n",
       "      <td>0.026734</td>\n",
       "    </tr>\n",
       "    <tr>\n",
       "      <th>High</th>\n",
       "      <td>0.985651</td>\n",
       "      <td>0.998967</td>\n",
       "      <td>1.000000</td>\n",
       "      <td>0.997472</td>\n",
       "      <td>0.039588</td>\n",
       "    </tr>\n",
       "    <tr>\n",
       "      <th>Low</th>\n",
       "      <td>0.984204</td>\n",
       "      <td>0.998287</td>\n",
       "      <td>0.997472</td>\n",
       "      <td>1.000000</td>\n",
       "      <td>0.047424</td>\n",
       "    </tr>\n",
       "    <tr>\n",
       "      <th>Cambio</th>\n",
       "      <td>0.069178</td>\n",
       "      <td>0.026734</td>\n",
       "      <td>0.039588</td>\n",
       "      <td>0.047424</td>\n",
       "      <td>1.000000</td>\n",
       "    </tr>\n",
       "  </tbody>\n",
       "</table>\n",
       "</div>"
      ],
      "text/plain": [
       "            PrecioProm  Apertura      High       Low    Cambio\n",
       "PrecioProm    1.000000  0.984049  0.985651  0.984204  0.069178\n",
       "Apertura      0.984049  1.000000  0.998967  0.998287  0.026734\n",
       "High          0.985651  0.998967  1.000000  0.997472  0.039588\n",
       "Low           0.984204  0.998287  0.997472  1.000000  0.047424\n",
       "Cambio        0.069178  0.026734  0.039588  0.047424  1.000000"
      ]
     },
     "execution_count": 34,
     "metadata": {},
     "output_type": "execute_result"
    }
   ],
   "source": [
    "nuevaoro.corr()"
   ]
  },
  {
   "cell_type": "code",
   "execution_count": 35,
   "metadata": {},
   "outputs": [
    {
     "data": {
      "text/html": [
       "<div>\n",
       "<style scoped>\n",
       "    .dataframe tbody tr th:only-of-type {\n",
       "        vertical-align: middle;\n",
       "    }\n",
       "\n",
       "    .dataframe tbody tr th {\n",
       "        vertical-align: top;\n",
       "    }\n",
       "\n",
       "    .dataframe thead th {\n",
       "        text-align: right;\n",
       "    }\n",
       "</style>\n",
       "<table border=\"1\" class=\"dataframe\">\n",
       "  <thead>\n",
       "    <tr style=\"text-align: right;\">\n",
       "      <th></th>\n",
       "      <th>PrecioProm</th>\n",
       "      <th>Apertura</th>\n",
       "      <th>High</th>\n",
       "      <th>Low</th>\n",
       "      <th>Cambio</th>\n",
       "    </tr>\n",
       "  </thead>\n",
       "  <tbody>\n",
       "    <tr>\n",
       "      <th>PrecioProm</th>\n",
       "      <td>32184.720559</td>\n",
       "      <td>32391.968946</td>\n",
       "      <td>33122.050826</td>\n",
       "      <td>31641.669106</td>\n",
       "      <td>0.198765</td>\n",
       "    </tr>\n",
       "    <tr>\n",
       "      <th>Apertura</th>\n",
       "      <td>32391.968946</td>\n",
       "      <td>33666.002812</td>\n",
       "      <td>34333.320894</td>\n",
       "      <td>32824.695846</td>\n",
       "      <td>0.078561</td>\n",
       "    </tr>\n",
       "    <tr>\n",
       "      <th>High</th>\n",
       "      <td>33122.050826</td>\n",
       "      <td>34333.320894</td>\n",
       "      <td>35086.350571</td>\n",
       "      <td>33482.610029</td>\n",
       "      <td>0.118762</td>\n",
       "    </tr>\n",
       "    <tr>\n",
       "      <th>Low</th>\n",
       "      <td>31641.669106</td>\n",
       "      <td>32824.695846</td>\n",
       "      <td>33482.610029</td>\n",
       "      <td>32114.318603</td>\n",
       "      <td>0.136111</td>\n",
       "    </tr>\n",
       "    <tr>\n",
       "      <th>Cambio</th>\n",
       "      <td>0.198765</td>\n",
       "      <td>0.078561</td>\n",
       "      <td>0.118762</td>\n",
       "      <td>0.136111</td>\n",
       "      <td>0.000257</td>\n",
       "    </tr>\n",
       "  </tbody>\n",
       "</table>\n",
       "</div>"
      ],
      "text/plain": [
       "              PrecioProm      Apertura          High           Low    Cambio\n",
       "PrecioProm  32184.720559  32391.968946  33122.050826  31641.669106  0.198765\n",
       "Apertura    32391.968946  33666.002812  34333.320894  32824.695846  0.078561\n",
       "High        33122.050826  34333.320894  35086.350571  33482.610029  0.118762\n",
       "Low         31641.669106  32824.695846  33482.610029  32114.318603  0.136111\n",
       "Cambio          0.198765      0.078561      0.118762      0.136111  0.000257"
      ]
     },
     "execution_count": 35,
     "metadata": {},
     "output_type": "execute_result"
    }
   ],
   "source": [
    "nuevaoro.cov()"
   ]
  },
  {
   "cell_type": "markdown",
   "metadata": {},
   "source": [
    "Podemos ver como se comportan los datos y que son muy similares entre si este se puede notar en sus medias que son todas muy similares ademas si vemos la tabla de correlacion todas tienden a 1 .\n"
   ]
  },
  {
   "cell_type": "code",
   "execution_count": null,
   "metadata": {},
   "outputs": [],
   "source": []
  }
 ],
 "metadata": {
  "kernelspec": {
   "display_name": "Python 3",
   "language": "python",
   "name": "python3"
  },
  "language_info": {
   "codemirror_mode": {
    "name": "ipython",
    "version": 3
   },
   "file_extension": ".py",
   "mimetype": "text/x-python",
   "name": "python",
   "nbconvert_exporter": "python",
   "pygments_lexer": "ipython3",
   "version": "3.8.3"
  }
 },
 "nbformat": 4,
 "nbformat_minor": 4
}
