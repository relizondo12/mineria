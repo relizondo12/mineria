{
 "cells": [
  {
   "cell_type": "code",
   "execution_count": 1,
   "metadata": {},
   "outputs": [
    {
     "name": "stdout",
     "output_type": "stream",
     "text": [
      "Rafael Elizondo 1887942\n"
     ]
    }
   ],
   "source": [
    "a = 1887942\n",
    "b = \"Rafael Elizondo\"\n",
    "print(b, a)"
   ]
  },
  {
   "cell_type": "code",
   "execution_count": 12,
   "metadata": {},
   "outputs": [
    {
     "name": "stdout",
     "output_type": "stream",
     "text": [
      "Introduce el número a: 8\n",
      "Introduce el número b: 3\n",
      "\n",
      "Selecciona una opcion: \n",
      "1. suma a+b\n",
      "2. resta a-b\n",
      "3. multiplicacion a*b\n",
      "4. division  a//b\n",
      "5 division b/a\n",
      "6. exponente a^b\n",
      "Introduce tu opcion: 1\n",
      "\n",
      "el resutado de  8 + 3 es =  11\n",
      "seleccione 1 si desea realizar otra opcion seleccione cualquier tecla si desea salir5\n",
      "\n",
      "gracias\n"
     ]
    }
   ],
   "source": [
    "var=1\n",
    "while var==1:\n",
    "    a1 = int(input(\"Introduce el número a: \"))\n",
    "    b1 = int(input(\"Introduce el número b: \"))\n",
    "    print()\n",
    "    print(\"Selecciona una opcion: \")\n",
    "    print(\"1. suma a+b\")\n",
    "    print(\"2. resta a-b\")\n",
    "    print(\"3. multiplicacion a*b\")\n",
    "    print(\"4. division  a//b\")\n",
    "    print(\"5 division b/a\")\n",
    "    print(\"6. exponente a^b\")\n",
    "    \n",
    "    opc = int(input(\"Introduce tu opcion: \"))\n",
    "    \n",
    "    print()\n",
    "    if opc == 1:\n",
    "        print(\"el resutado de \",a1,\"+\",b1,\"es = \",(a1+b1))\n",
    "    elif opc== 2:\n",
    "        print(\"el resutado de \",a1,\"-\",b1,\"es = \",(a1-b1))\n",
    "    elif opc== 3:\n",
    "        print(\"el resutado de \",a1,\"*\",b1,\"es = \",(a1*b1))\n",
    "    elif opc == 4:\n",
    "        print(\"el resutado de \",a1,\"//\",b1,\"es = \",(a1//b1))\n",
    "    elif opc == 5:\n",
    "        print(\"el resutado de \",a1,\"/\",b1,\"es = \",(a1/b1))\n",
    "    elif opc == 6:\n",
    "        print(\"el resultado es \",a1**bi )\n",
    "    else:\n",
    "        print('error')\n",
    "    var=int(input(\"seleccione 1 si desea realizar otra opcion seleccione cualquier tecla si desea salir\"))\n",
    "print()    \n",
    "print(\"gracias\")"
   ]
  },
  {
   "cell_type": "markdown",
   "metadata": {},
   "source": [
    "Ejercicio 3\n"
   ]
  },
  {
   "cell_type": "code",
   "execution_count": 14,
   "metadata": {},
   "outputs": [
    {
     "name": "stdout",
     "output_type": "stream",
     "text": [
      "[3, 6, 9, 12, 15, 18, 21, 24, 27, 30]\n",
      "la suma es 165\n"
     ]
    }
   ],
   "source": [
    "import numpy as np\n",
    "suma=0\n",
    "lista=[]\n",
    "for i in range (1,11):\n",
    "    lista.append(i*3)\n",
    "\n",
    "for i in lista:\n",
    "    suma=suma+i\n",
    "print(lista)    \n",
    "print(\"la suma es\",suma)\n"
   ]
  },
  {
   "cell_type": "markdown",
   "metadata": {},
   "source": [
    "Ejercicio 4"
   ]
  },
  {
   "cell_type": "code",
   "execution_count": 1,
   "metadata": {},
   "outputs": [
    {
     "name": "stdout",
     "output_type": "stream",
     "text": [
      "Introduce un número:8\n",
      "El número es par\n"
     ]
    }
   ],
   "source": [
    "a = int(input(\"Introduce un número:\" ))\n",
    "if a %2 == 0:\n",
    "            print(\"El número es par\")\n",
    "else:\n",
    "            print(\"El número es impar\")"
   ]
  },
  {
   "cell_type": "code",
   "execution_count": 2,
   "metadata": {},
   "outputs": [
    {
     "name": "stdout",
     "output_type": "stream",
     "text": [
      "Introduce un numero 17\n",
      "El número es primo\n"
     ]
    }
   ],
   "source": [
    "b = int(input(\"Introduce un numero \"))\n",
    "c = 1\n",
    "if b == 0 or b ==1 :\n",
    "    print(\"error\")\n",
    "else:\n",
    "    if b == 2:\n",
    "        print(\"el numero es primo\")\n",
    "    else:\n",
    "        for i in range(2, b):\n",
    "            if b % i == 0:\n",
    "                c = 0\n",
    "if c == 0:\n",
    "    print(\"El número no es primo\")\n",
    "else:\n",
    "    print(\"El número es primo\")\n",
    "    \n",
    "    \n",
    "    "
   ]
  },
  {
   "cell_type": "code",
   "execution_count": 5,
   "metadata": {},
   "outputs": [
    {
     "name": "stdout",
     "output_type": "stream",
     "text": [
      "Introduce el número entero a: 7\n",
      "Introduce el número entero b: 3\n",
      "\n",
      "Selecciona una opcion: \n",
      "1. suma a+b\n",
      "2. resta a-b\n",
      "3. multiplicacion a*b\n",
      "4. division  a//b\n",
      "5 division b/a\n",
      "6. exponente a^b\n",
      "Introduce tu opcion: 1\n",
      "\n",
      "el resutado de  7 + 3 es =  10\n",
      "seleccione 1 si desea realizar otra opcion seleccione cualquier tecla si desea salir1\n",
      "Introduce el número entero a: 8\n",
      "Introduce el número entero b: 5\n",
      "\n",
      "Selecciona una opcion: \n",
      "1. suma a+b\n",
      "2. resta a-b\n",
      "3. multiplicacion a*b\n",
      "4. division  a//b\n",
      "5 division b/a\n",
      "6. exponente a^b\n",
      "Introduce tu opcion: 3\n",
      "\n",
      "el resutado de  8 * 5 es =  40\n",
      "seleccione 1 si desea realizar otra opcion seleccione cualquier tecla si desea salir5\n",
      "\n",
      "gracias\n"
     ]
    }
   ],
   "source": [
    "\n",
    "def Suma(a,b):\n",
    "    return a+b\n",
    "def Resta(a,b):\n",
    "    return a-b\n",
    "def Multi(a,b):\n",
    "    return a*b\n",
    "def diven(a,b):\n",
    "    return a//b\n",
    "def exp(a,b):\n",
    "    return a**b\n",
    "var=1\n",
    "while var==1:\n",
    "    a = int(input(\"Introduce el número entero a: \"))\n",
    "    b = int(input(\"Introduce el número entero b: \"))\n",
    "    print()\n",
    "    print(\"Selecciona una opcion: \")\n",
    "    print(\"1. suma a+b\")\n",
    "    print(\"2. resta a-b\")\n",
    "    print(\"3. multiplicacion a*b\")\n",
    "    print(\"4. division  a//b\")\n",
    "    print(\"5 division b/a\")\n",
    "    print(\"6. exponente a^b\")\n",
    "    \n",
    "    opc = int(input(\"Introduce tu opcion: \"))\n",
    "    \n",
    "    print()\n",
    "    if opc == 1:\n",
    "        print(\"el resutado de \",a,\"+\",b,\"es = \", Suma(a,b))\n",
    "    elif opc== 2:\n",
    "        print(\"el resutado de \",a,\"-\",b,\"es = \", Resta(a,b))\n",
    "    elif opc== 3:\n",
    "        print(\"el resutado de \",a,\"*\",b,\"es = \" , Multi(a,b))\n",
    "    elif opc == 4:\n",
    "        print(\"el resutado de \",a,\"//\",b,\"es = \", diven(a,b))\n",
    "    elif opc == 5:\n",
    "        print(\"el resutado de \",a,\"/\",b,\"es = \",diven(a,b))\n",
    "    elif opc == 6:\n",
    "        print(\"el resultado es \",exp(a,b))\n",
    "    else:\n",
    "        print('error')\n",
    "    var=int(input(\"seleccione 1 si desea realizar otra opcion seleccione cualquier tecla si desea salir\"))\n",
    "print()    \n",
    "print(\"gracias\")"
   ]
  },
  {
   "cell_type": "markdown",
   "metadata": {},
   "source": [
    "Tuplas"
   ]
  },
  {
   "cell_type": "code",
   "execution_count": 6,
   "metadata": {},
   "outputs": [
    {
     "name": "stdout",
     "output_type": "stream",
     "text": [
      "La variabla a: 8  es <class 'int'>\n",
      "La variabla b: 3.5  es <class 'float'>\n",
      "La variabla c: True  es <class 'bool'>\n",
      "La variabla d: (7+2j)  es <class 'complex'>\n"
     ]
    }
   ],
   "source": [
    "a=8\n",
    "b=3.5\n",
    "c=True\n",
    "d=7+2j\n",
    "print(\"La variabla a:\",a, \" es\", type(a))\n",
    "print(\"La variabla b:\",b, \" es\", type(b))\n",
    "print(\"La variabla c:\", c, \" es\", type(c))\n",
    "print(\"La variabla d:\",d, \" es\", type(d))"
   ]
  },
  {
   "cell_type": "code",
   "execution_count": 8,
   "metadata": {},
   "outputs": [
    {
     "name": "stdout",
     "output_type": "stream",
     "text": [
      "el primer valor de tupla  es: 1\n",
      "el ultimo valor de tupla  es: 4\n"
     ]
    }
   ],
   "source": [
    "\n",
    "tupla=(1,3,2,5,12,15,18,4)\n",
    "\n",
    "print(\"el primer valor de tupla  es:\",tupla[0])\n",
    "print(\"el ultimo valor de tupla  es:\",tupla[-1])"
   ]
  },
  {
   "cell_type": "code",
   "execution_count": 9,
   "metadata": {},
   "outputs": [
    {
     "data": {
      "text/plain": [
       "((1, 3, 2, 5, 12, 15, 18, 4), 'clase', 'tuplas', 'hola')"
      ]
     },
     "execution_count": 9,
     "metadata": {},
     "output_type": "execute_result"
    }
   ],
   "source": [
    "tupla = tupla, \"clase\", \"tuplas\",\"hola\"\n",
    "tupla"
   ]
  },
  {
   "cell_type": "code",
   "execution_count": 12,
   "metadata": {},
   "outputs": [
    {
     "name": "stdout",
     "output_type": "stream",
     "text": [
      "introduzca la variable a verificar5\n",
      "la variable no esta en la tupla\n"
     ]
    }
   ],
   "source": [
    "var=int(input(\"introduzca la variable a verificar\"))\n",
    "if var in tupla:\n",
    "    print(\"la variable esta en la tupla\")\n",
    "else:\n",
    "    print(\"la variable no esta en la tupla\")"
   ]
  },
  {
   "cell_type": "markdown",
   "metadata": {},
   "source": [
    "Listas"
   ]
  },
  {
   "cell_type": "code",
   "execution_count": 13,
   "metadata": {},
   "outputs": [
    {
     "data": {
      "text/plain": [
       "[6,\n",
       " 73,\n",
       " 93,\n",
       " 8,\n",
       " 91,\n",
       " 23,\n",
       " 92,\n",
       " 77,\n",
       " 29,\n",
       " 26,\n",
       " 9,\n",
       " 17,\n",
       " 13,\n",
       " 2,\n",
       " 87,\n",
       " 47,\n",
       " 53,\n",
       " 71,\n",
       " 48,\n",
       " 89,\n",
       " 7,\n",
       " 40,\n",
       " 84,\n",
       " 41,\n",
       " 76,\n",
       " 21,\n",
       " 22,\n",
       " 52,\n",
       " 44,\n",
       " 67,\n",
       " 57,\n",
       " 50,\n",
       " 19,\n",
       " 95,\n",
       " 27,\n",
       " 75,\n",
       " 42,\n",
       " 36,\n",
       " 96,\n",
       " 86]"
      ]
     },
     "execution_count": 13,
     "metadata": {},
     "output_type": "execute_result"
    }
   ],
   "source": [
    "import random as r\n",
    "lista = range(0,100)\n",
    "lista = r.sample(lista, k = 40)\n",
    "lista"
   ]
  },
  {
   "cell_type": "code",
   "execution_count": 15,
   "metadata": {},
   "outputs": [
    {
     "data": {
      "text/plain": [
       "[6, 8, 92, 26, 2, 48, 40, 84, 76, 22, 52, 44, 50, 42, 36, 96, 86]"
      ]
     },
     "execution_count": 15,
     "metadata": {},
     "output_type": "execute_result"
    }
   ],
   "source": [
    "pares = []\n",
    "impares = []\n",
    "for i in range(len(lista)):\n",
    "        lista[i]\n",
    "        if lista[i] %2 == 0:\n",
    "            pares.append(lista[i])\n",
    "        else:\n",
    "            impares.append(lista[i])\n",
    "            \n",
    "pares"
   ]
  },
  {
   "cell_type": "code",
   "execution_count": 16,
   "metadata": {},
   "outputs": [
    {
     "data": {
      "text/plain": [
       "[73,\n",
       " 93,\n",
       " 91,\n",
       " 23,\n",
       " 77,\n",
       " 29,\n",
       " 9,\n",
       " 17,\n",
       " 13,\n",
       " 87,\n",
       " 47,\n",
       " 53,\n",
       " 71,\n",
       " 89,\n",
       " 7,\n",
       " 41,\n",
       " 21,\n",
       " 67,\n",
       " 57,\n",
       " 19,\n",
       " 95,\n",
       " 27,\n",
       " 75]"
      ]
     },
     "execution_count": 16,
     "metadata": {},
     "output_type": "execute_result"
    }
   ],
   "source": [
    "impares"
   ]
  },
  {
   "cell_type": "code",
   "execution_count": 17,
   "metadata": {},
   "outputs": [
    {
     "name": "stdout",
     "output_type": "stream",
     "text": [
      "la cantidad de elementos pares son: 17\n",
      "la cantidad de elementos impares son: 23\n"
     ]
    }
   ],
   "source": [
    "cpar = len(pares)\n",
    "cimp = len(impares)\n",
    "print(\"la cantidad de elementos pares son:\", cpar)\n",
    "print(\"la cantidad de elementos impares son:\", cimp)"
   ]
  },
  {
   "cell_type": "code",
   "execution_count": 19,
   "metadata": {},
   "outputs": [
    {
     "data": {
      "text/plain": [
       "[2, 6, 8, 22, 26, 36, 40, 42, 44, 48, 50, 52, 76, 84, 86, 92, 96]"
      ]
     },
     "execution_count": 19,
     "metadata": {},
     "output_type": "execute_result"
    }
   ],
   "source": [
    "ordpar = sorted(pares)\n",
    "ordpar"
   ]
  },
  {
   "cell_type": "code",
   "execution_count": 20,
   "metadata": {},
   "outputs": [
    {
     "data": {
      "text/plain": [
       "[7,\n",
       " 9,\n",
       " 13,\n",
       " 17,\n",
       " 19,\n",
       " 21,\n",
       " 23,\n",
       " 27,\n",
       " 29,\n",
       " 41,\n",
       " 47,\n",
       " 53,\n",
       " 57,\n",
       " 67,\n",
       " 71,\n",
       " 73,\n",
       " 75,\n",
       " 77,\n",
       " 87,\n",
       " 89,\n",
       " 91,\n",
       " 93,\n",
       " 95]"
      ]
     },
     "execution_count": 20,
     "metadata": {},
     "output_type": "execute_result"
    }
   ],
   "source": [
    "ordimp = sorted(impares)\n",
    "ordimp"
   ]
  },
  {
   "cell_type": "code",
   "execution_count": 30,
   "metadata": {},
   "outputs": [],
   "source": [
    "pos=lista.index(8)\n",
    "#posicion donde esta el numero\n",
    "lista.extend([105])\n",
    "lista.count(9)\n",
    "#cuenta la cantidad que se repite el numero\n",
    "lista.insert(0,1)\n",
    "#inserta un numero en la posicion"
   ]
  },
  {
   "cell_type": "code",
   "execution_count": 33,
   "metadata": {},
   "outputs": [
    {
     "data": {
      "text/plain": [
       "{'Nombres': ['Rafael', 'kevin', 'pedro', 'ignacion', 'Manuel', 'Kevin'],\n",
       " 'Edades': [21, 20, 20, 21, 22, 21]}"
      ]
     },
     "execution_count": 33,
     "metadata": {},
     "output_type": "execute_result"
    }
   ],
   "source": [
    "\n",
    "personas = {'Nombres' : ['Rafael','kevin','pedro','ignacion','Manuel', 'Kevin'],'Edades' : [21, 20, 20, 21, 22, 21]}\n",
    "personas"
   ]
  },
  {
   "cell_type": "code",
   "execution_count": 38,
   "metadata": {},
   "outputs": [
    {
     "name": "stdout",
     "output_type": "stream",
     "text": [
      "[20, 20, 21, 21, 21, 22]\n"
     ]
    }
   ],
   "source": [
    "edad = personas.get('Edades')\n",
    "ordenadas= sorted(edad)\n",
    "print(ordenadas)"
   ]
  },
  {
   "cell_type": "code",
   "execution_count": 40,
   "metadata": {},
   "outputs": [
    {
     "name": "stdout",
     "output_type": "stream",
     "text": [
      "Rafael\n",
      "kevin\n",
      "pedro\n",
      "ignacion\n",
      "Manuel\n"
     ]
    }
   ],
   "source": [
    "for i in range(0,5):\n",
    "    print (personas['Nombres'][i])"
   ]
  },
  {
   "cell_type": "markdown",
   "metadata": {},
   "source": [
    "Sets"
   ]
  },
  {
   "cell_type": "code",
   "execution_count": 41,
   "metadata": {},
   "outputs": [],
   "source": [
    "import random as r\n",
    "num=set({})\n",
    "for i in range(1,100):\n",
    "    num.add(r.randint(1,25))\n"
   ]
  },
  {
   "cell_type": "code",
   "execution_count": 42,
   "metadata": {},
   "outputs": [
    {
     "name": "stdout",
     "output_type": "stream",
     "text": [
      "la longitud del set es: 25\n"
     ]
    }
   ],
   "source": [
    "print(\"la longitud del set es:\",len(num))"
   ]
  },
  {
   "cell_type": "code",
   "execution_count": 43,
   "metadata": {},
   "outputs": [
    {
     "name": "stdout",
     "output_type": "stream",
     "text": [
      "el numero 3  se encuentra en el set\n",
      "el numero 5  se encuentra en el set\n",
      "el numero 6  se encuentra en el set\n",
      "el numero 1  se encuentra en el set\n",
      "el numero 6  se encuentra en el set\n"
     ]
    }
   ],
   "source": [
    "\n",
    "listas=[]\n",
    "for i in range(1,6):\n",
    "    listas.append(r.randint(1,10))\n",
    "for num in listas:\n",
    "    if num in listas:\n",
    "        print(\"el numero\",num,\" se encuentra en el set\")\n",
    "    else:\n",
    "        print(\"el numero\",num,\"no se encuentra en el set\")"
   ]
  },
  {
   "cell_type": "code",
   "execution_count": null,
   "metadata": {},
   "outputs": [],
   "source": []
  }
 ],
 "metadata": {
  "kernelspec": {
   "display_name": "Python 3",
   "language": "python",
   "name": "python3"
  },
  "language_info": {
   "codemirror_mode": {
    "name": "ipython",
    "version": 3
   },
   "file_extension": ".py",
   "mimetype": "text/x-python",
   "name": "python",
   "nbconvert_exporter": "python",
   "pygments_lexer": "ipython3",
   "version": "3.8.3"
  }
 },
 "nbformat": 4,
 "nbformat_minor": 4
}
